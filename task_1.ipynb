{
 "cells": [
  {
   "cell_type": "markdown",
   "id": "83b0f5e6-f592-49c2-926b-7cb91975a466",
   "metadata": {},
   "source": [
    "# Zero-shot NER"
   ]
  },
  {
   "cell_type": "markdown",
   "id": "be9406b9-816d-4b56-a438-d27cf47ac469",
   "metadata": {},
   "source": [
    "**Цель**: извлечь именованные сущности из заданного текста, используя предобученные BERT-like модели с Hugging Face."
   ]
  },
  {
   "cell_type": "code",
   "execution_count": 1,
   "id": "53b67bd0-c18e-411b-883e-0911d9201d95",
   "metadata": {},
   "outputs": [],
   "source": [
    "import re\n",
    "import pymorphy3 as pm3\n",
    "\n",
    "import pandas as pd\n",
    "\n",
    "from transformers import AutoTokenizer, AutoModelForTokenClassification\n",
    "from transformers import pipeline\n",
    "\n",
    "from ipymarkup import show_span_box_markup\n",
    "from tqdm.notebook import tqdm\n",
    "\n",
    "import wikipedia"
   ]
  },
  {
   "cell_type": "markdown",
   "id": "bb363213-6a0e-42a1-b353-da8e7c8a6ea3",
   "metadata": {},
   "source": [
    "### Data Extraction"
   ]
  },
  {
   "cell_type": "markdown",
   "id": "2bfc4a96-f72c-4008-84f2-b6f655be788d",
   "metadata": {},
   "source": [
    "Сохраним документ, пользуясь API Wikipedia:"
   ]
  },
  {
   "cell_type": "code",
   "execution_count": 2,
   "id": "8ea82261-2688-4cd9-8e97-cf0859a88a4a",
   "metadata": {},
   "outputs": [],
   "source": [
    "wikipedia.set_lang('ru')"
   ]
  },
  {
   "cell_type": "code",
   "execution_count": 3,
   "id": "d9ae89f7-7267-4985-aa5d-11d7c94fe41d",
   "metadata": {},
   "outputs": [
    {
     "name": "stdout",
     "output_type": "stream",
     "text": [
      "Capcom Co., Ltd. (яп. 株式会社カプコン Кабусики-гайся Капукон) — японская корпорация, один из крупнейших в мире разработчиков и издателей компьютерных видеоигр, со штаб-квартирой в городе Осака. Корпорация была основана в 1979 году под названием Japan Capsule Computers, как компания по производству и дистрибуции электронных игровых машин. Настоящее название это аббревиатура от Capsule и Computers. На приставки 3-4 поколения (NES, Sega, SNES) компания создавала игры по мотивам мультфильмов Walt Disney.\n",
      "На сегодняшний день компания известна как владелец нескольких крупных игровых франшиз, среди которых: Resident Evil, Devil May Cry, Street Fighter, Mega Man, Lost Planet, Monster Hunter и Ace Attorney.\n",
      "Capcom также активно работает как издатель и локализатор западных продуктов на востоке, примером может быть «X2» от Team 17 и Grand Theft Auto.\n",
      "\n",
      "\n",
      "== Талисман ==\n",
      "Оригинальным талисманом Capcom является Капитан Коммандо, супергерой, одетый в футуристическую броню. Его имя образовано от названия компании Cap(tain)Com(mando). Впервые он появился в ранней игре Capcom для Famicom/NES под названием «Section Z» и мелькал в руководствах к ранним NES играм Capcom. Также он стал главным героем в игре «Captain Commando» 1991 года. Позже он стал одним из бойцов в «Marvel vs. Capcom» и её сиквеле. В «Marvel vs. Capcom» он всё ещё является символом Capcom, например регулярно выкрикивая «Capcom!» во время сражений.\n",
      "Mega Man заменил Капитана Коммандо на постаменте талисмана, в основном потому, что серия «Mega Man» является сейчас довольно популярной и более известной.\n",
      "Также Рю, один из самых выдающихся персонажей Capcom из Street Fighter, который на данный момент не только лицо файтингов Capcom, но и целого жанра файтингов.\n",
      "В последние годы участилась тенденция использования Сервботов из серии игр MegaMan: Legends. Игрушки и изображения Сервботов нередко сопровождают игровые выставки, где участвует Capcom.\n",
      "\n",
      "\n",
      "== Студии Capcom ==\n",
      "Каждая студия Capcom — это разработчик, создающий игры под лейблом Capcom. Студии разделены на различные секции и пронумерованы, за исключением независимых Clover Studio (более не существующей) и Flagship, основанной Capcom в Японии.\n",
      "\n",
      " Consumer Games Development Division 1 (ранее Capcom R&D Division 1) — основная студия Capcom. Ответственна за серии игр Resident Evil, Devil May Cry, Marvel vs. Capcom, Mega Man и многие другие.\n",
      " Consumer Games Development Division 2 (ранее Capcom R&D Division 2) — ответственна за серии игр Ace Attorney, Monster Hunter и Street Fighter.\n",
      " Mobile Online Development Division — ответственна за онлайновые и мобильные игры компании.\n",
      " K2 — студия, содействующая основным студиям в разработке видеоигр. Была приобретена в 2008 году.\n",
      " M-Two — новоиспеченная студия компании, основанная сооснователем PlatinumGames Тацуей Минами. Ответственна за разработку Resident Evil 3 (2020).\n",
      "\n",
      "\n",
      "=== Закрытые ===\n",
      " Capcom Production Studio 4 — студия, ранее ответственная за серии игр Ace Attorney (2001—2004) и Dino Crisis, а также за игры Devil May Cry (2001), Resident Evil 3: Nemesis, Resident Evil Code: Veronica и Resident Evil 4. Закрыта в 2005 году.\n",
      " Clover Studio — студия, ранее ответственная за игры God Hand, Okami и за серию игр Viewtiful Joe. Закрыта в 2007 году.\n",
      " Capcom Vancouver — студия, ранее ответственная за серию игр Dead Rising (2010—2016). Закрыта в 2018 году.\n",
      "\n",
      "\n",
      "== Филиалы и связанные корпорации ==\n",
      "Capcom Entertainment, Inc.\n",
      "Capcom U.S.A., Inc. основана в Калифорнии как официальный филиал Capcom в Северной Америке в августе 1985 года.\n",
      "Capcom Studio 8, Inc. основана как R&D отдел Capcom USA, Inc. в июне 1995. Студия была закрыта в 2006 году.\n",
      "Capcom Asia Co., Ltd. основана в Гонконге как официальный азиатский филиал Capcom в 1993 году.\n",
      "Capcom Eurosoft Ltd. основана в Объединённом Королевстве как официальный европейский филиал Capcom в июле 1998 года.\n",
      "KOKO Capcom Asia Co., Ltd. — официальный южнокорейский филиал Capcom, основанный в июле 2001 года.\n",
      "Suleputer была основана для торговли и дистрибуции игр и сопутствующих товаров (книг, музыки, аниме и т. д.) в Азии. Название происходит от Capsule Computer.\n",
      "Captron Co., Ltd. основана для управлением делами недвижимости.\n",
      "Flagship Co., Ltd. — студия, создавшая «Onimusha» и «Zelda» на Game Boy Color и Game Boy Advance, выпустившая «The Legend of Zelda: The Minish Cap».\n",
      "Capcom Charbo Co., Ltd. основана для управления арендой и эксплуатацией электронных игровых машин.\n",
      "CE Europe Ltd. была основана в Лондоне в ноябре 2002.\n",
      "CEG Interactive Entertainment GmbH была основана в Германии в феврале 2003.\n",
      "Nude Maker Co., Ltd. — студия, создавшая «Clock Tower» 1, 2 и «Steel Battalion» для PlayStation и Xbox.\n",
      "Clover Studio Co., Ltd. — студия, основанная в Осаке в июле 2004 года и распущенная в марте 2007 года. Она разработала серии «Viewtiful Joe», «Okami» и «God Hand».\n",
      "SEEDS Inc. создана из бывших сотрудников Clover Studio.\n",
      "Nickel City — цепь видеоаркад, однажды купленная Capcom и позже проданная в 2004 году.\n",
      "Capcom Interactive Canada — отдел Capcom, ориентированный на разработку игр под мобильные платформы.\n",
      "\n",
      "\n",
      "== Фильмы и телевидение ==\n",
      "Герои и игры Capcom породили множество фильмов и мультфильмов. Некоторые из них:\n",
      "\n",
      "Символ компании, Mega Man, сыграл второстепенную роль в ТВ-шоу Nintendo «Captain N: The Game Master» и также потом появился в трёх сериалах: «Mega Man» и двух аниме «MegaMan NT Warrior» и «Ryusei no Rockman». Он также был главным героем «Mega Man: Upon a Star|three OVAs», выпущенном в 1993 в Японии и «NT Warrior» — аниме-сериале, породившем 48-минутный фильм «Rockman EXE: The Program of Light and Dark», и героем сериала «Mega Man X», снятого в Америке в начале 90-х.\n",
      "В 1994 был создан полнометражный мультфильм «Street Fighter II: The Animated Movie», последовавший за фильмом «Уличный боец». Вскоре после этого появилось два мультсериала «Street Fighter II V» и «Street Fighter: The Animated Series» в 1995.\n",
      "Битвы между героями Street Fighter II можно увидеть в фильме «Городской охотник» с Джеки Чаном.\n",
      "Файтинг «Darkstalkers» вдохновил на создание двух мультсериалов — «Vampire Hunter: The Animated Series» в Японии (выходил под названием «Night Warriors: Darkstalkers' Revenge» в других странах) и «Darkstalkers» в США.\n",
      "Аниме-сериал по мотивам «Viewtiful Joe» был создан в 2004. Он содержал 52 эпизода и был вдохновлён первой и второй играми серии.\n",
      "Объявлено о съёмках фильмов по мотивам Devil May Cry и Clock Tower.\n",
      "Более того в 2007 вышло аниме по мотивам Devil May Cry.\n",
      "Серия фильмов «Обитель зла» от режиссёра Пола Андерсона.\n",
      "В 2012 году вышел фильм по мотивам первой игры серии Ace Attorney (Gyakuten Saiban).\n",
      "Также в 2016 году был создан аниме-сериал по мотивам первых двух игр серии Ace Attorney (Gyakuten Saiban) и содержит в себе 24 эпизода в качестве первого сезона. В 2018 году вышло продолжение, сделанное по мотивам третьей части игры.\n",
      "\n",
      "\n",
      "== Игры Capcom ==\n",
      "\n",
      "\n",
      "=== Платиновые тайтлы Capcom ===\n",
      "Capcom составляет обновляющийся ежеквартально список из своих игр, тираж которых превысил миллион экземпляров, и называется «Платиновыми тайтлами». Список состоит из более чем 90 видеоигр, а вот десять самых продаваемых изданий по состоянию на 30 сентября 2023 года.\n",
      "\n",
      "* - с учетом продаж издания \"Monster Hunter World: Iceborne Master Edition\": 23.10 млн. копий\n",
      "\n",
      "\n",
      "== Примечания ==\n",
      "\n",
      "\n",
      "== Источники ==\n",
      "«CAPCOM: Corporate Profile: Capcom Group Архивная копия от 12 октября 2007 на Wayback Machine.» Декабрь 27, 2004. Accessed on March 6, 2006.\n",
      "«CAPCOM: Corporate Profile: Corporate History Архивная копия от 15 апреля 2010 на Wayback Machine.» 20 июня, 2005.\n",
      "«CAPCOM: Financial Information Архивная копия от 14 мая 2005 на Wayback Machine.» 20 июня 2005.\n",
      "\n",
      "\n",
      "== Ссылки ==\n",
      "Capcom Co. Ltd. Архивная копия от 2 августа 2011 на Wayback Machine (яп.)\n",
      "Capcom U.S.A., Inc. Архивная копия от 24 августа 2013 на Wayback Machine\n",
      "Capcom Europe Ltd. Архивная копия от 12 мая 2008 на Wayback Machine\n",
      "Capcom Архивная копия от 8 марта 2005 на Wayback Machine // MobyGames\n",
      "Capcom-Central.com — игры Capcom\n"
     ]
    }
   ],
   "source": [
    "title = 'Capcom'\n",
    "\n",
    "article = wikipedia.page(title).content\n",
    "with open('wiki_src.txt', 'w', encoding='utf-8') as f:\n",
    "    f.write(article)\n",
    "\n",
    "print(article)"
   ]
  },
  {
   "cell_type": "markdown",
   "id": "e1a405a2-559b-4691-960e-f2a3b67a45e0",
   "metadata": {},
   "source": [
    "### Preprocessing"
   ]
  },
  {
   "cell_type": "code",
   "execution_count": 4,
   "id": "90909059-70ee-4c5f-98a8-519bab79f289",
   "metadata": {},
   "outputs": [
    {
     "data": {
      "text/plain": [
       "7947"
      ]
     },
     "execution_count": 4,
     "metadata": {},
     "output_type": "execute_result"
    }
   ],
   "source": [
    "len(article)"
   ]
  },
  {
   "cell_type": "markdown",
   "id": "0235a728-fb6b-4e32-8538-d3bbddae1bd9",
   "metadata": {},
   "source": [
    "Так как текст достаточно длинный, поделим его на чанки:"
   ]
  },
  {
   "cell_type": "code",
   "execution_count": 5,
   "id": "10f0bab1-f093-48d7-91c0-011154aa796b",
   "metadata": {},
   "outputs": [
    {
     "data": {
      "text/plain": [
       "[(0, 847),\n",
       " (861, 1912),\n",
       " (1931, 2845),\n",
       " (2861, 3335),\n",
       " (3371, 5044),\n",
       " (5070, 6811),\n",
       " (6828, 6831),\n",
       " (6863, 7228),\n",
       " (7244, 7247),\n",
       " (7262, 7617),\n",
       " (7629, 7947)]"
      ]
     },
     "execution_count": 5,
     "metadata": {},
     "output_type": "execute_result"
    }
   ],
   "source": [
    "chunks = [] # [(text_chunk, chunk_len)]\n",
    "chunk_start = 0\n",
    "\n",
    "title_pattern = re.compile(r'==.*==')\n",
    "for match in title_pattern.finditer(article):\n",
    "    chunk_end = match.start()\n",
    "\n",
    "    # saving only non-empty chunks\n",
    "    if chunk_end - chunk_start > 0:\n",
    "        chunks.append((chunk_start, chunk_end))\n",
    "\n",
    "    chunk_start = match.end()\n",
    "\n",
    "# saving last chunk\n",
    "if len(article) - chunk_start > 0:\n",
    "    chunks.append((chunk_start, len(article)))\n",
    "\n",
    "chunks"
   ]
  },
  {
   "cell_type": "markdown",
   "id": "8780e48a-afca-4299-9332-8411ca127a37",
   "metadata": {},
   "source": [
    "Будем возвращать сущности в нормальной форме:"
   ]
  },
  {
   "cell_type": "code",
   "execution_count": 6,
   "id": "6d488ce7-5ec0-4c9b-b17a-efc82741378b",
   "metadata": {},
   "outputs": [],
   "source": [
    "lemmatizer = pm3.MorphAnalyzer(lang='ru')"
   ]
  },
  {
   "cell_type": "code",
   "execution_count": 7,
   "id": "07dee143-8d8a-4342-a2e4-f6923488031f",
   "metadata": {},
   "outputs": [],
   "source": [
    "# hard-to-lemmatize exceptions\n",
    "entity_exceptions = {\n",
    "    'Минами',\n",
    "}"
   ]
  },
  {
   "cell_type": "code",
   "execution_count": 8,
   "id": "03e01e50-7a6d-4da0-b19a-28a2a119074f",
   "metadata": {},
   "outputs": [],
   "source": [
    "def lemmatize(entity: str) -> str:\n",
    "    \"\"\"Lemmatizes named entity.\"\"\"\n",
    "    # do not change non-russian entities\n",
    "    match = re.search(r'[а-яА-Я]', entity)\n",
    "    if match is None or match.start() > 0:\n",
    "        return entity\n",
    "\n",
    "    # split the entity into tokens\n",
    "    tokens = entity.split()\n",
    "\n",
    "    # check if the last token is an exception\n",
    "    revert_flag = False\n",
    "    if tokens[-1] in entity_exceptions:\n",
    "        token_backup = tokens[-1]\n",
    "        revert_flag = True\n",
    "\n",
    "    # lemmatize the last token\n",
    "    tokens[-1] = lemmatizer.parse(tokens[-1])[0].normal_form\n",
    "    gender = lemmatizer.parse(tokens[-1])[0].normalized.tag.gender\n",
    "    number = lemmatizer.parse(tokens[-1])[0].normalized.tag.number\n",
    "\n",
    "    # inflect the first token to suit the last one\n",
    "    inflection = {'nomn', number}\n",
    "    if number != 'plur':\n",
    "        if gender is None:\n",
    "            return entity\n",
    "        inflection.add(gender)\n",
    "    tokens[0] = lemmatizer.parse(tokens[0])[0].inflect(inflection).word\n",
    "\n",
    "    # revert last token changes if it is an exception\n",
    "    if revert_flag:\n",
    "        tokens[-1] = token_backup\n",
    "\n",
    "    # merge tokens\n",
    "    return ' '.join(tokens).title()"
   ]
  },
  {
   "cell_type": "code",
   "execution_count": 9,
   "id": "6d1ff5a6-c145-4482-a037-af500f806de9",
   "metadata": {},
   "outputs": [
    {
     "data": {
      "text/plain": [
       "'Объединённое Королевство'"
      ]
     },
     "execution_count": 9,
     "metadata": {},
     "output_type": "execute_result"
    }
   ],
   "source": [
    "lemmatize('Объединенном Королевстве')"
   ]
  },
  {
   "cell_type": "markdown",
   "id": "5560dd33-6acd-413b-9d94-633f5839185d",
   "metadata": {},
   "source": [
    "### Model Testing "
   ]
  },
  {
   "cell_type": "markdown",
   "id": "341b48e3-24de-4d16-b004-0ca52f3bcc9c",
   "metadata": {},
   "source": [
    "Хоть текст и на русском языке, в нем встречаются сущности на русском и английском языках (и последних явно больше). Поэтому имеет смысл рассмотреть и мультиязычные модели, обученные для en/ru."
   ]
  },
  {
   "cell_type": "markdown",
   "id": "1dcddd80-177f-4e28-9afa-ee3139fe75a6",
   "metadata": {},
   "source": [
    "Модели:\n",
    "1. Babelscape/wikineural-multilingual-ner -> mbert (177 миллионов параметров, 9 языков), fine-tuned на WikiNEuRal;\n",
    "2. xlm-roberta-large-finetuned-conll03-english -> distilbert-base-multilingual-cased (561 миллион параметров, 100 языков), fine-tuned на conll2003;\n",
    "3. denis-gordeev/rured2-ner-microsoft-mdeberta-v3-base -> mdeberta (278 миллионов параметров, русский язык), fine-tuned на RURED2."
   ]
  },
  {
   "cell_type": "code",
   "execution_count": 10,
   "id": "db7f59af-9c95-4d92-a1eb-e9ce0b18028e",
   "metadata": {},
   "outputs": [],
   "source": [
    "checkpoints = [\n",
    "    'Babelscape/wikineural-multilingual-ner',\n",
    "    'xlm-roberta-large-finetuned-conll03-english',\n",
    "    'denis-gordeev/rured2-ner-microsoft-mdeberta-v3-base',\n",
    "] "
   ]
  },
  {
   "cell_type": "code",
   "execution_count": 11,
   "id": "b1841373-904a-45fc-b79b-4bab2334703e",
   "metadata": {},
   "outputs": [],
   "source": [
    "allowed_groups = {'PER', 'LOC', 'ORG', 'PERSON', 'ORGANIZATION', 'CITY', 'COUNTRY', 'REGION', 'GPE', 'PERSON'}"
   ]
  },
  {
   "cell_type": "markdown",
   "id": "748815d9-d10f-4542-a59c-0d11ffc0b206",
   "metadata": {},
   "source": [
    "Извлечем из документа именнованные сущности:"
   ]
  },
  {
   "cell_type": "code",
   "execution_count": 12,
   "id": "9bccc5bd-0d11-4e56-88b6-09f21d84fa6c",
   "metadata": {},
   "outputs": [
    {
     "data": {
      "application/vnd.jupyter.widget-view+json": {
       "model_id": "0ecf30628bf24638b9be3b13f7b61aae",
       "version_major": 2,
       "version_minor": 0
      },
      "text/plain": [
       "Generating models' outputs:   0%|          | 0/3 [00:00<?, ?it/s]"
      ]
     },
     "metadata": {},
     "output_type": "display_data"
    },
    {
     "name": "stderr",
     "output_type": "stream",
     "text": [
      "Some weights of the model checkpoint at xlm-roberta-large-finetuned-conll03-english were not used when initializing XLMRobertaForTokenClassification: ['roberta.pooler.dense.weight', 'roberta.pooler.dense.bias']\n",
      "- This IS expected if you are initializing XLMRobertaForTokenClassification from the checkpoint of a model trained on another task or with another architecture (e.g. initializing a BertForSequenceClassification model from a BertForPreTraining model).\n",
      "- This IS NOT expected if you are initializing XLMRobertaForTokenClassification from the checkpoint of a model that you expect to be exactly identical (initializing a BertForSequenceClassification model from a BertForSequenceClassification model).\n",
      "D:\\Dev\\ml_models\\venv\\Lib\\site-packages\\transformers\\pipelines\\token_classification.py:393: UserWarning: Tokenizer does not support real words, using fallback heuristic\n",
      "  warnings.warn(\n",
      "Asking to truncate to max_length but no maximum length is provided and the model has no predefined maximum length. Default to no truncation.\n"
     ]
    }
   ],
   "source": [
    "outputs = []\n",
    "for checkpoint in tqdm(checkpoints, desc=\"Generating models' outputs\"):\n",
    "    tokenizer = AutoTokenizer.from_pretrained(checkpoint)\n",
    "    model = AutoModelForTokenClassification.from_pretrained(checkpoint)\n",
    "    \n",
    "    nlp = pipeline('ner', model=model, tokenizer=tokenizer, aggregation_strategy='first')\n",
    "\n",
    "    results = []\n",
    "    for chunk in chunks:\n",
    "        chunk_text = article[chunk[0]: chunk[1]]\n",
    "        entities = nlp(chunk_text)\n",
    "        \n",
    "        # removing banned entity groups\n",
    "        entities = [sample for sample in entities if sample['entity_group'] in allowed_groups]\n",
    "    \n",
    "        # adding chunk offset to entities' positions\n",
    "        for entity in entities:\n",
    "            entity['start'] += chunk[0]\n",
    "            entity['end'] += chunk[0]\n",
    "    \n",
    "        results += entities\n",
    "\n",
    "    outputs.append(results)"
   ]
  },
  {
   "cell_type": "markdown",
   "id": "26d437a9-ea9d-4e44-9554-0d34f440f71c",
   "metadata": {},
   "source": [
    "Визуализируем выдачи моделей."
   ]
  },
  {
   "cell_type": "markdown",
   "id": "e330220e-ab0c-4bd5-9f86-1cfdf72d8c9a",
   "metadata": {},
   "source": [
    "#### mbert:"
   ]
  },
  {
   "cell_type": "code",
   "execution_count": 13,
   "id": "8ac5efc8-3a3e-4e44-8f72-226815fb5a23",
   "metadata": {},
   "outputs": [
    {
     "data": {
      "text/html": [
       "<div class=\"tex2jax_ignore\" style=\"white-space: pre-wrap\"><span style=\"padding: 2px; border-radius: 4px; border: 1px solid #bbdefb; background: #e3f2fd\">Capcom Co., Ltd.<span style=\"vertical-align: middle; margin-left: 2px; font-size: 0.7em; color: #64b5f6;\">ORG</span></span> (яп. 株式会社カプコン Кабусики-гайся Капукон) — японская корпорация, один из крупнейших в мире разработчиков и издателей компьютерных видеоигр, со штаб-квартирой в городе <span style=\"padding: 2px; border-radius: 4px; border: 1px solid #c8e6c9; background: #e8f5e9\">Осака<span style=\"vertical-align: middle; margin-left: 2px; font-size: 0.7em; color: #66bb6a;\">LOC</span></span>. Корпорация была основана в 1979 году под названием <span style=\"padding: 2px; border-radius: 4px; border: 1px solid #bbdefb; background: #e3f2fd\">Japan Capsule Computers<span style=\"vertical-align: middle; margin-left: 2px; font-size: 0.7em; color: #64b5f6;\">ORG</span></span>, как компания по производству и дистрибуции электронных игровых машин. Настоящее название это аббревиатура от <span style=\"padding: 2px; border-radius: 4px; border: 1px solid #bbdefb; background: #e3f2fd\">Capsule<span style=\"vertical-align: middle; margin-left: 2px; font-size: 0.7em; color: #64b5f6;\">ORG</span></span> и <span style=\"padding: 2px; border-radius: 4px; border: 1px solid #bbdefb; background: #e3f2fd\">Computers<span style=\"vertical-align: middle; margin-left: 2px; font-size: 0.7em; color: #64b5f6;\">ORG</span></span>. На приставки 3-4 поколения (NES, <span style=\"padding: 2px; border-radius: 4px; border: 1px solid #bbdefb; background: #e3f2fd\">Sega<span style=\"vertical-align: middle; margin-left: 2px; font-size: 0.7em; color: #64b5f6;\">ORG</span></span>, SNES) компания создавала игры по мотивам мультфильмов <span style=\"padding: 2px; border-radius: 4px; border: 1px solid #bbdefb; background: #e3f2fd\">Walt Disney<span style=\"vertical-align: middle; margin-left: 2px; font-size: 0.7em; color: #64b5f6;\">ORG</span></span>.\n",
       "На сегодняшний день компания известна как владелец нескольких крупных игровых франшиз, среди которых: Resident Evil, Devil May Cry, Street Fighter, Mega Man, Lost Planet, Monster Hunter и Ace Attorney.\n",
       "<span style=\"padding: 2px; border-radius: 4px; border: 1px solid #bbdefb; background: #e3f2fd\">Capcom<span style=\"vertical-align: middle; margin-left: 2px; font-size: 0.7em; color: #64b5f6;\">ORG</span></span> также активно работает как издатель и локализатор западных продуктов на востоке, примером может быть «X2» от Team 17 и Grand Theft Auto.\n",
       "\n",
       "\n",
       "== Талисман ==\n",
       "Оригинальным талисманом <span style=\"padding: 2px; border-radius: 4px; border: 1px solid #bbdefb; background: #e3f2fd\">Capcom<span style=\"vertical-align: middle; margin-left: 2px; font-size: 0.7em; color: #64b5f6;\">ORG</span></span> является Капитан Коммандо, супергерой, одетый в футуристическую броню. Его имя образовано от названия компании <span style=\"padding: 2px; border-radius: 4px; border: 1px solid #bbdefb; background: #e3f2fd\">Cap<span style=\"vertical-align: middle; margin-left: 2px; font-size: 0.7em; color: #64b5f6;\">ORG</span></span>(tain)<span style=\"padding: 2px; border-radius: 4px; border: 1px solid #bbdefb; background: #e3f2fd\">Com<span style=\"vertical-align: middle; margin-left: 2px; font-size: 0.7em; color: #64b5f6;\">ORG</span></span>(mando). Впервые он появился в ранней игре <span style=\"padding: 2px; border-radius: 4px; border: 1px solid #bbdefb; background: #e3f2fd\">Capcom<span style=\"vertical-align: middle; margin-left: 2px; font-size: 0.7em; color: #64b5f6;\">ORG</span></span> для Famicom/NES под названием «Section Z» и мелькал в руководствах к ранним NES играм <span style=\"padding: 2px; border-radius: 4px; border: 1px solid #bbdefb; background: #e3f2fd\">Capcom<span style=\"vertical-align: middle; margin-left: 2px; font-size: 0.7em; color: #64b5f6;\">ORG</span></span>. Также он стал главным героем в игре «Captain Commando» 1991 года. Позже он стал одним из бойцов в «Marvel vs. Capcom» и её сиквеле. В «Marvel vs. Capcom» он всё ещё является символом <span style=\"padding: 2px; border-radius: 4px; border: 1px solid #bbdefb; background: #e3f2fd\">Capcom<span style=\"vertical-align: middle; margin-left: 2px; font-size: 0.7em; color: #64b5f6;\">ORG</span></span>, например регулярно выкрикивая «Capcom!» во время сражений.\n",
       "Mega Man заменил Капитана Коммандо на постаменте талисмана, в основном потому, что серия «Mega Man» является сейчас довольно популярной и более известной.\n",
       "Также <span style=\"padding: 2px; border-radius: 4px; border: 1px solid #ffcdd2; background: #ffebee\">Рю<span style=\"vertical-align: middle; margin-left: 2px; font-size: 0.7em; color: #e57373;\">PER</span></span>, один из самых выдающихся персонажей <span style=\"padding: 2px; border-radius: 4px; border: 1px solid #bbdefb; background: #e3f2fd\">Capcom<span style=\"vertical-align: middle; margin-left: 2px; font-size: 0.7em; color: #64b5f6;\">ORG</span></span> из Street Fighter, который на данный момент не только лицо файтингов <span style=\"padding: 2px; border-radius: 4px; border: 1px solid #bbdefb; background: #e3f2fd\">Capcom<span style=\"vertical-align: middle; margin-left: 2px; font-size: 0.7em; color: #64b5f6;\">ORG</span></span>, но и целого жанра файтингов.\n",
       "В последние годы участилась тенденция использования Сервботов из серии игр MegaMan: Legends. Игрушки и изображения Сервботов нередко сопровождают игровые выставки, где участвует <span style=\"padding: 2px; border-radius: 4px; border: 1px solid #bbdefb; background: #e3f2fd\">Capcom<span style=\"vertical-align: middle; margin-left: 2px; font-size: 0.7em; color: #64b5f6;\">ORG</span></span>.\n",
       "\n",
       "\n",
       "== Студии Capcom ==\n",
       "Каждая студия <span style=\"padding: 2px; border-radius: 4px; border: 1px solid #bbdefb; background: #e3f2fd\">Capcom<span style=\"vertical-align: middle; margin-left: 2px; font-size: 0.7em; color: #64b5f6;\">ORG</span></span> — это разработчик, создающий игры под лейблом <span style=\"padding: 2px; border-radius: 4px; border: 1px solid #bbdefb; background: #e3f2fd\">Capcom<span style=\"vertical-align: middle; margin-left: 2px; font-size: 0.7em; color: #64b5f6;\">ORG</span></span>. Студии разделены на различные секции и пронумерованы, за исключением независимых <span style=\"padding: 2px; border-radius: 4px; border: 1px solid #bbdefb; background: #e3f2fd\">Clover Studio<span style=\"vertical-align: middle; margin-left: 2px; font-size: 0.7em; color: #64b5f6;\">ORG</span></span> (более не существующей) и <span style=\"padding: 2px; border-radius: 4px; border: 1px solid #bbdefb; background: #e3f2fd\">Flagship<span style=\"vertical-align: middle; margin-left: 2px; font-size: 0.7em; color: #64b5f6;\">ORG</span></span>, основанной <span style=\"padding: 2px; border-radius: 4px; border: 1px solid #bbdefb; background: #e3f2fd\">Capcom<span style=\"vertical-align: middle; margin-left: 2px; font-size: 0.7em; color: #64b5f6;\">ORG</span></span> в <span style=\"padding: 2px; border-radius: 4px; border: 1px solid #c8e6c9; background: #e8f5e9\">Японии<span style=\"vertical-align: middle; margin-left: 2px; font-size: 0.7em; color: #66bb6a;\">LOC</span></span>.\n",
       "\n",
       " <span style=\"padding: 2px; border-radius: 4px; border: 1px solid #bbdefb; background: #e3f2fd\">Consumer Games Development Division 1<span style=\"vertical-align: middle; margin-left: 2px; font-size: 0.7em; color: #64b5f6;\">ORG</span></span> (ранее Capcom R<span style=\"padding: 2px; border-radius: 4px; border: 1px solid #bbdefb; background: #e3f2fd\">&amp;<span style=\"vertical-align: middle; margin-left: 2px; font-size: 0.7em; color: #64b5f6;\">ORG</span></span>D <span style=\"padding: 2px; border-radius: 4px; border: 1px solid #bbdefb; background: #e3f2fd\">Division<span style=\"vertical-align: middle; margin-left: 2px; font-size: 0.7em; color: #64b5f6;\">ORG</span></span> 1) — основная студия <span style=\"padding: 2px; border-radius: 4px; border: 1px solid #bbdefb; background: #e3f2fd\">Capcom<span style=\"vertical-align: middle; margin-left: 2px; font-size: 0.7em; color: #64b5f6;\">ORG</span></span>. Ответственна за серии игр Resident Evil, Devil May Cry, Marvel vs. Capcom, Mega Man и многие другие.\n",
       " Consumer <span style=\"padding: 2px; border-radius: 4px; border: 1px solid #bbdefb; background: #e3f2fd\">Games Development Division<span style=\"vertical-align: middle; margin-left: 2px; font-size: 0.7em; color: #64b5f6;\">ORG</span></span> 2 (ранее Capcom R&amp;D Division 2) — ответственна за серии игр Ace Attorney, Monster Hunter и Street Fighter.\n",
       " Mobile <span style=\"padding: 2px; border-radius: 4px; border: 1px solid #bbdefb; background: #e3f2fd\">Online Development Division<span style=\"vertical-align: middle; margin-left: 2px; font-size: 0.7em; color: #64b5f6;\">ORG</span></span> — ответственна за онлайновые и мобильные игры компании.\n",
       " K2 — студия, содействующая основным студиям в разработке видеоигр. Была приобретена в 2008 году.\n",
       " M<span style=\"padding: 2px; border-radius: 4px; border: 1px solid #bbdefb; background: #e3f2fd\">-Two<span style=\"vertical-align: middle; margin-left: 2px; font-size: 0.7em; color: #64b5f6;\">ORG</span></span> — новоиспеченная студия компании, основанная сооснователем PlatinumGames <span style=\"padding: 2px; border-radius: 4px; border: 1px solid #ffcdd2; background: #ffebee\">Тацуей Минами<span style=\"vertical-align: middle; margin-left: 2px; font-size: 0.7em; color: #e57373;\">PER</span></span>. Ответственна за разработку Resident Evil 3 (2020).\n",
       "\n",
       "\n",
       "=== Закрытые ===\n",
       " <span style=\"padding: 2px; border-radius: 4px; border: 1px solid #bbdefb; background: #e3f2fd\">Capcom Production Studio 4<span style=\"vertical-align: middle; margin-left: 2px; font-size: 0.7em; color: #64b5f6;\">ORG</span></span> — студия, ранее ответственная за серии игр Ace Attorney (2001—2004) и Dino Crisis, а также за игры Devil May Cry (2001), Resident Evil 3: Nemesis, Resident Evil Code: Veronica и Resident Evil 4. Закрыта в 2005 году.\n",
       " <span style=\"padding: 2px; border-radius: 4px; border: 1px solid #bbdefb; background: #e3f2fd\">Clover Studio<span style=\"vertical-align: middle; margin-left: 2px; font-size: 0.7em; color: #64b5f6;\">ORG</span></span> — студия, ранее ответственная за игры God Hand, Okami и за серию игр Viewtiful Joe. Закрыта в 2007 году.\n",
       " <span style=\"padding: 2px; border-radius: 4px; border: 1px solid #bbdefb; background: #e3f2fd\">Capcom Vancouver<span style=\"vertical-align: middle; margin-left: 2px; font-size: 0.7em; color: #64b5f6;\">ORG</span></span> — студия, ранее ответственная за серию игр Dead Rising (2010—2016). Закрыта в 2018 году.\n",
       "\n",
       "\n",
       "== Филиалы и связанные корпорации ==\n",
       "<span style=\"padding: 2px; border-radius: 4px; border: 1px solid #bbdefb; background: #e3f2fd\">Capcom Entertainment, Inc.<span style=\"vertical-align: middle; margin-left: 2px; font-size: 0.7em; color: #64b5f6;\">ORG</span></span>\n",
       "<span style=\"padding: 2px; border-radius: 4px; border: 1px solid #bbdefb; background: #e3f2fd\">Capcom U.S.A., Inc.<span style=\"vertical-align: middle; margin-left: 2px; font-size: 0.7em; color: #64b5f6;\">ORG</span></span> основана в <span style=\"padding: 2px; border-radius: 4px; border: 1px solid #c8e6c9; background: #e8f5e9\">Калифорнии<span style=\"vertical-align: middle; margin-left: 2px; font-size: 0.7em; color: #66bb6a;\">LOC</span></span> как официальный филиал <span style=\"padding: 2px; border-radius: 4px; border: 1px solid #bbdefb; background: #e3f2fd\">Capcom<span style=\"vertical-align: middle; margin-left: 2px; font-size: 0.7em; color: #64b5f6;\">ORG</span></span> в <span style=\"padding: 2px; border-radius: 4px; border: 1px solid #c8e6c9; background: #e8f5e9\">Северной Америке<span style=\"vertical-align: middle; margin-left: 2px; font-size: 0.7em; color: #66bb6a;\">LOC</span></span> в августе 1985 года.\n",
       "<span style=\"padding: 2px; border-radius: 4px; border: 1px solid #bbdefb; background: #e3f2fd\">Capcom Studio 8, Inc.<span style=\"vertical-align: middle; margin-left: 2px; font-size: 0.7em; color: #64b5f6;\">ORG</span></span> основана как R&amp;D отдел <span style=\"padding: 2px; border-radius: 4px; border: 1px solid #bbdefb; background: #e3f2fd\">Capcom USA, Inc.<span style=\"vertical-align: middle; margin-left: 2px; font-size: 0.7em; color: #64b5f6;\">ORG</span></span> в июне 1995. Студия была закрыта в 2006 году.\n",
       "<span style=\"padding: 2px; border-radius: 4px; border: 1px solid #bbdefb; background: #e3f2fd\">Capcom Asia Co., Ltd.<span style=\"vertical-align: middle; margin-left: 2px; font-size: 0.7em; color: #64b5f6;\">ORG</span></span> основана в <span style=\"padding: 2px; border-radius: 4px; border: 1px solid #c8e6c9; background: #e8f5e9\">Гонконге<span style=\"vertical-align: middle; margin-left: 2px; font-size: 0.7em; color: #66bb6a;\">LOC</span></span> как официальный азиатский филиал <span style=\"padding: 2px; border-radius: 4px; border: 1px solid #bbdefb; background: #e3f2fd\">Capcom<span style=\"vertical-align: middle; margin-left: 2px; font-size: 0.7em; color: #64b5f6;\">ORG</span></span> в 1993 году.\n",
       "<span style=\"padding: 2px; border-radius: 4px; border: 1px solid #bbdefb; background: #e3f2fd\">Capcom Eurosoft Ltd.<span style=\"vertical-align: middle; margin-left: 2px; font-size: 0.7em; color: #64b5f6;\">ORG</span></span> основана в <span style=\"padding: 2px; border-radius: 4px; border: 1px solid #c8e6c9; background: #e8f5e9\">Объединённом Королевстве<span style=\"vertical-align: middle; margin-left: 2px; font-size: 0.7em; color: #66bb6a;\">LOC</span></span> как официальный европейский филиал <span style=\"padding: 2px; border-radius: 4px; border: 1px solid #bbdefb; background: #e3f2fd\">Capcom<span style=\"vertical-align: middle; margin-left: 2px; font-size: 0.7em; color: #64b5f6;\">ORG</span></span> в июле 1998 года.\n",
       "<span style=\"padding: 2px; border-radius: 4px; border: 1px solid #bbdefb; background: #e3f2fd\">KOKO Capcom Asia Co., Ltd<span style=\"vertical-align: middle; margin-left: 2px; font-size: 0.7em; color: #64b5f6;\">ORG</span></span>. — официальный южнокорейский филиал <span style=\"padding: 2px; border-radius: 4px; border: 1px solid #bbdefb; background: #e3f2fd\">Capcom<span style=\"vertical-align: middle; margin-left: 2px; font-size: 0.7em; color: #64b5f6;\">ORG</span></span>, основанный в июле 2001 года.\n",
       "<span style=\"padding: 2px; border-radius: 4px; border: 1px solid #bbdefb; background: #e3f2fd\">Suleputer<span style=\"vertical-align: middle; margin-left: 2px; font-size: 0.7em; color: #64b5f6;\">ORG</span></span> была основана для торговли и дистрибуции игр и сопутствующих товаров (книг, музыки, аниме и т. д.) в <span style=\"padding: 2px; border-radius: 4px; border: 1px solid #c8e6c9; background: #e8f5e9\">Азии<span style=\"vertical-align: middle; margin-left: 2px; font-size: 0.7em; color: #66bb6a;\">LOC</span></span>. Название происходит от Capsule <span style=\"padding: 2px; border-radius: 4px; border: 1px solid #bbdefb; background: #e3f2fd\">Computer<span style=\"vertical-align: middle; margin-left: 2px; font-size: 0.7em; color: #64b5f6;\">ORG</span></span>.\n",
       "<span style=\"padding: 2px; border-radius: 4px; border: 1px solid #bbdefb; background: #e3f2fd\">Captron Co., Ltd<span style=\"vertical-align: middle; margin-left: 2px; font-size: 0.7em; color: #64b5f6;\">ORG</span></span>. основана для управлением делами недвижимости.\n",
       "<span style=\"padding: 2px; border-radius: 4px; border: 1px solid #bbdefb; background: #e3f2fd\">Flagship Co., Ltd<span style=\"vertical-align: middle; margin-left: 2px; font-size: 0.7em; color: #64b5f6;\">ORG</span></span>. — студия, создавшая «Onimusha» и «Zelda» на Game Boy Color и Game Boy Advance, выпустившая «The Legend of Zelda: The Minish Cap».\n",
       "<span style=\"padding: 2px; border-radius: 4px; border: 1px solid #bbdefb; background: #e3f2fd\">Capcom Charbo Co., Ltd.<span style=\"vertical-align: middle; margin-left: 2px; font-size: 0.7em; color: #64b5f6;\">ORG</span></span> основана для управления арендой и эксплуатацией электронных игровых машин.\n",
       "<span style=\"padding: 2px; border-radius: 4px; border: 1px solid #bbdefb; background: #e3f2fd\">CE Europe Ltd.<span style=\"vertical-align: middle; margin-left: 2px; font-size: 0.7em; color: #64b5f6;\">ORG</span></span> была основана в <span style=\"padding: 2px; border-radius: 4px; border: 1px solid #c8e6c9; background: #e8f5e9\">Лондоне<span style=\"vertical-align: middle; margin-left: 2px; font-size: 0.7em; color: #66bb6a;\">LOC</span></span> в ноябре 2002.\n",
       "<span style=\"padding: 2px; border-radius: 4px; border: 1px solid #bbdefb; background: #e3f2fd\">CEG Interactive Entertainment GmbH<span style=\"vertical-align: middle; margin-left: 2px; font-size: 0.7em; color: #64b5f6;\">ORG</span></span> была основана в <span style=\"padding: 2px; border-radius: 4px; border: 1px solid #c8e6c9; background: #e8f5e9\">Германии<span style=\"vertical-align: middle; margin-left: 2px; font-size: 0.7em; color: #66bb6a;\">LOC</span></span> в феврале 2003.\n",
       "<span style=\"padding: 2px; border-radius: 4px; border: 1px solid #bbdefb; background: #e3f2fd\">Nude Maker Co., Ltd<span style=\"vertical-align: middle; margin-left: 2px; font-size: 0.7em; color: #64b5f6;\">ORG</span></span>. — студия, создавшая «Clock Tower» 1, 2 и «Steel Battalion» для PlayStation и Xbox.\n",
       "<span style=\"padding: 2px; border-radius: 4px; border: 1px solid #bbdefb; background: #e3f2fd\">Clover Studio Co., Ltd<span style=\"vertical-align: middle; margin-left: 2px; font-size: 0.7em; color: #64b5f6;\">ORG</span></span>. — студия, основанная в <span style=\"padding: 2px; border-radius: 4px; border: 1px solid #c8e6c9; background: #e8f5e9\">Осаке<span style=\"vertical-align: middle; margin-left: 2px; font-size: 0.7em; color: #66bb6a;\">LOC</span></span> в июле 2004 года и распущенная в марте 2007 года. Она разработала серии «Viewtiful Joe», «Okami» и «God Hand».\n",
       "<span style=\"padding: 2px; border-radius: 4px; border: 1px solid #bbdefb; background: #e3f2fd\">SEEDS Inc.<span style=\"vertical-align: middle; margin-left: 2px; font-size: 0.7em; color: #64b5f6;\">ORG</span></span> создана из бывших сотрудников <span style=\"padding: 2px; border-radius: 4px; border: 1px solid #bbdefb; background: #e3f2fd\">Clover Studio<span style=\"vertical-align: middle; margin-left: 2px; font-size: 0.7em; color: #64b5f6;\">ORG</span></span>.\n",
       "<span style=\"padding: 2px; border-radius: 4px; border: 1px solid #bbdefb; background: #e3f2fd\">Nickel City<span style=\"vertical-align: middle; margin-left: 2px; font-size: 0.7em; color: #64b5f6;\">ORG</span></span> — цепь видеоаркад, однажды купленная <span style=\"padding: 2px; border-radius: 4px; border: 1px solid #bbdefb; background: #e3f2fd\">Capcom<span style=\"vertical-align: middle; margin-left: 2px; font-size: 0.7em; color: #64b5f6;\">ORG</span></span> и позже проданная в 2004 году.\n",
       "<span style=\"padding: 2px; border-radius: 4px; border: 1px solid #bbdefb; background: #e3f2fd\">Capcom Interactive Canada<span style=\"vertical-align: middle; margin-left: 2px; font-size: 0.7em; color: #64b5f6;\">ORG</span></span> — отдел <span style=\"padding: 2px; border-radius: 4px; border: 1px solid #bbdefb; background: #e3f2fd\">Capcom<span style=\"vertical-align: middle; margin-left: 2px; font-size: 0.7em; color: #64b5f6;\">ORG</span></span>, ориентированный на разработку игр под мобильные платформы.\n",
       "\n",
       "\n",
       "== Фильмы и телевидение ==\n",
       "Герои и игры <span style=\"padding: 2px; border-radius: 4px; border: 1px solid #bbdefb; background: #e3f2fd\">Capcom<span style=\"vertical-align: middle; margin-left: 2px; font-size: 0.7em; color: #64b5f6;\">ORG</span></span> породили множество фильмов и мультфильмов. Некоторые из них:\n",
       "\n",
       "Символ компании, Mega Man, сыграл второстепенную роль в ТВ-шоу <span style=\"padding: 2px; border-radius: 4px; border: 1px solid #bbdefb; background: #e3f2fd\">Nintendo<span style=\"vertical-align: middle; margin-left: 2px; font-size: 0.7em; color: #64b5f6;\">ORG</span></span> «Captain N: The Game Master» и также потом появился в трёх сериалах: «Mega Man» и двух аниме «MegaMan NT Warrior» и «Ryusei no Rockman». Он также был главным героем «Mega Man: Upon a Star|three OVAs», выпущенном в 1993 в <span style=\"padding: 2px; border-radius: 4px; border: 1px solid #c8e6c9; background: #e8f5e9\">Японии<span style=\"vertical-align: middle; margin-left: 2px; font-size: 0.7em; color: #66bb6a;\">LOC</span></span> и «NT Warrior» — аниме-сериале, породившем 48-минутный фильм «Rockman EXE: The Program of Light and Dark», и героем сериала «Mega Man X», снятого в <span style=\"padding: 2px; border-radius: 4px; border: 1px solid #c8e6c9; background: #e8f5e9\">Америке<span style=\"vertical-align: middle; margin-left: 2px; font-size: 0.7em; color: #66bb6a;\">LOC</span></span> в начале 90-х.\n",
       "В 1994 был создан полнометражный мультфильм «Street Fighter II: The Animated Movie», последовавший за фильмом «Уличный боец». Вскоре после этого появилось два мультсериала «Street Fighter II V» и «Street Fighter: The Animated Series» в 1995.\n",
       "Битвы между героями Street Fighter II можно увидеть в фильме «Городской охотник» с <span style=\"padding: 2px; border-radius: 4px; border: 1px solid #ffcdd2; background: #ffebee\">Джеки Чаном<span style=\"vertical-align: middle; margin-left: 2px; font-size: 0.7em; color: #e57373;\">PER</span></span>.\n",
       "Файтинг «Darkstalkers» вдохновил на создание двух мультсериалов — «Vampire Hunter: The Animated Series» в <span style=\"padding: 2px; border-radius: 4px; border: 1px solid #c8e6c9; background: #e8f5e9\">Японии<span style=\"vertical-align: middle; margin-left: 2px; font-size: 0.7em; color: #66bb6a;\">LOC</span></span> (выходил под названием «Night Warriors: Darkstalkers&#x27; Revenge» в других странах) и «Darkstalkers» в <span style=\"padding: 2px; border-radius: 4px; border: 1px solid #c8e6c9; background: #e8f5e9\">США<span style=\"vertical-align: middle; margin-left: 2px; font-size: 0.7em; color: #66bb6a;\">LOC</span></span>.\n",
       "Аниме-сериал по мотивам «Viewtiful Joe» был создан в 2004. Он содержал 52 эпизода и был вдохновлён первой и второй играми серии.\n",
       "Объявлено о съёмках фильмов по мотивам Devil May Cry и Clock Tower.\n",
       "Более того в 2007 вышло аниме по мотивам Devil May Cry.\n",
       "Серия фильмов «Обитель зла» от режиссёра <span style=\"padding: 2px; border-radius: 4px; border: 1px solid #ffcdd2; background: #ffebee\">Пола Андерсона<span style=\"vertical-align: middle; margin-left: 2px; font-size: 0.7em; color: #e57373;\">PER</span></span>.\n",
       "В 2012 году вышел фильм по мотивам первой игры серии Ace Attorney (Gyakuten Saiban).\n",
       "Также в 2016 году был создан аниме-сериал по мотивам первых двух игр серии Ace Attorney (Gyakuten Saiban) и содержит в себе 24 эпизода в качестве первого сезона. В 2018 году вышло продолжение, сделанное по мотивам третьей части игры.\n",
       "\n",
       "\n",
       "== Игры Capcom ==\n",
       "\n",
       "\n",
       "=== Платиновые тайтлы Capcom ===\n",
       "<span style=\"padding: 2px; border-radius: 4px; border: 1px solid #bbdefb; background: #e3f2fd\">Capcom<span style=\"vertical-align: middle; margin-left: 2px; font-size: 0.7em; color: #64b5f6;\">ORG</span></span> составляет обновляющийся ежеквартально список из своих игр, тираж которых превысил миллион экземпляров, и называется «Платиновыми тайтлами». Список состоит из более чем 90 видеоигр, а вот десять самых продаваемых изданий по состоянию на 30 сентября 2023 года.\n",
       "\n",
       "* - с учетом продаж издания &quot;Monster Hunter World: Iceborne Master Edition&quot;: 23.10 млн. копий\n",
       "\n",
       "\n",
       "== Примечания ==\n",
       "\n",
       "\n",
       "== Источники ==\n",
       "«CAPCOM: Corporate Profile: <span style=\"padding: 2px; border-radius: 4px; border: 1px solid #bbdefb; background: #e3f2fd\">Capcom Group<span style=\"vertical-align: middle; margin-left: 2px; font-size: 0.7em; color: #64b5f6;\">ORG</span></span> Архивная копия от 12 октября 2007 на Wayback Machine.» Декабрь 27, 2004. Accessed on March 6, 2006.\n",
       "«CAPCOM: Corporate Profile: Corporate History Архивная копия от 15 апреля 2010 на Wayback Machine.» 20 июня, 2005.\n",
       "«CAPCOM: Financial Information Архивная копия от 14 мая 2005 на Wayback Machine.» 20 июня 2005.\n",
       "\n",
       "\n",
       "== Ссылки ==\n",
       "<span style=\"padding: 2px; border-radius: 4px; border: 1px solid #bbdefb; background: #e3f2fd\">Capcom Co. Ltd.<span style=\"vertical-align: middle; margin-left: 2px; font-size: 0.7em; color: #64b5f6;\">ORG</span></span> Архивная копия от 2 августа 2011 на Wayback Machine (яп.)\n",
       "<span style=\"padding: 2px; border-radius: 4px; border: 1px solid #bbdefb; background: #e3f2fd\">Capcom U.S.A., Inc.<span style=\"vertical-align: middle; margin-left: 2px; font-size: 0.7em; color: #64b5f6;\">ORG</span></span> Архивная копия от 24 августа 2013 на Wayback Machine\n",
       "<span style=\"padding: 2px; border-radius: 4px; border: 1px solid #bbdefb; background: #e3f2fd\">Capcom Europe Ltd.<span style=\"vertical-align: middle; margin-left: 2px; font-size: 0.7em; color: #64b5f6;\">ORG</span></span> Архивная копия от 12 мая 2008 на Wayback Machine\n",
       "<span style=\"padding: 2px; border-radius: 4px; border: 1px solid #bbdefb; background: #e3f2fd\">Capcom<span style=\"vertical-align: middle; margin-left: 2px; font-size: 0.7em; color: #64b5f6;\">ORG</span></span> Архивная копия от 8 марта 2005 на Wayback Machine // MobyGames\n",
       "Capcom-Central.com — игры <span style=\"padding: 2px; border-radius: 4px; border: 1px solid #bbdefb; background: #e3f2fd\">Capcom<span style=\"vertical-align: middle; margin-left: 2px; font-size: 0.7em; color: #64b5f6;\">ORG</span></span></div>"
      ],
      "text/plain": [
       "<IPython.core.display.HTML object>"
      ]
     },
     "metadata": {},
     "output_type": "display_data"
    }
   ],
   "source": [
    "spans = [(x['start'], x['end'], x['entity_group']) for x in outputs[0]]\n",
    "\n",
    "show_span_box_markup(article, spans)"
   ]
  },
  {
   "cell_type": "markdown",
   "id": "bbb76796-16c6-409c-bdfc-faef0c4fe36e",
   "metadata": {},
   "source": [
    "#### roberta:"
   ]
  },
  {
   "cell_type": "code",
   "execution_count": 14,
   "id": "a1a495fc-a50d-4439-947f-c22a5f4f82a3",
   "metadata": {},
   "outputs": [
    {
     "data": {
      "text/html": [
       "<div class=\"tex2jax_ignore\" style=\"white-space: pre-wrap\"><span style=\"padding: 2px; border-radius: 4px; border: 1px solid #bbdefb; background: #e3f2fd\">Capcom Co., Ltd.<span style=\"vertical-align: middle; margin-left: 2px; font-size: 0.7em; color: #64b5f6;\">ORG</span></span> (яп. <span style=\"padding: 2px; border-radius: 4px; border: 1px solid #bbdefb; background: #e3f2fd\">株式会社カプコン Кабусики-гайся Капукон)<span style=\"vertical-align: middle; margin-left: 2px; font-size: 0.7em; color: #64b5f6;\">ORG</span></span> — японская корпорация, один из крупнейших в мире разработчиков и издателей компьютерных видеоигр, со штаб-квартирой в городе <span style=\"padding: 2px; border-radius: 4px; border: 1px solid #c8e6c9; background: #e8f5e9\">Осака.<span style=\"vertical-align: middle; margin-left: 2px; font-size: 0.7em; color: #66bb6a;\">LOC</span></span> Корпорация была основана в 1979 году под названием <span style=\"padding: 2px; border-radius: 4px; border: 1px solid #bbdefb; background: #e3f2fd\">Japan Capsule Computers,<span style=\"vertical-align: middle; margin-left: 2px; font-size: 0.7em; color: #64b5f6;\">ORG</span></span> как компания по производству и дистрибуции электронных игровых машин. Настоящее название это аббревиатура от <span style=\"padding: 2px; border-radius: 4px; border: 1px solid #bbdefb; background: #e3f2fd\">Capsule<span style=\"vertical-align: middle; margin-left: 2px; font-size: 0.7em; color: #64b5f6;\">ORG</span></span> и <span style=\"padding: 2px; border-radius: 4px; border: 1px solid #bbdefb; background: #e3f2fd\">Computers.<span style=\"vertical-align: middle; margin-left: 2px; font-size: 0.7em; color: #64b5f6;\">ORG</span></span> На приставки 3-4 поколения (NES, Sega, SNES) компания создавала игры по мотивам мультфильмов <span style=\"padding: 2px; border-radius: 4px; border: 1px solid #bbdefb; background: #e3f2fd\">Walt Disney.\n",
       "На<span style=\"vertical-align: middle; margin-left: 2px; font-size: 0.7em; color: #64b5f6;\">ORG</span></span> сегодняшний день компания известна как владелец нескольких крупных игровых франшиз, среди которых: Resident Evil, Devil May Cry, Street Fighter, Mega Man, Lost Planet, Monster Hunter и Ace Attorney.\n",
       "Capcom также активно работает как издатель и локализатор западных продуктов на востоке, примером может быть «X2» от <span style=\"padding: 2px; border-radius: 4px; border: 1px solid #bbdefb; background: #e3f2fd\">Team 17<span style=\"vertical-align: middle; margin-left: 2px; font-size: 0.7em; color: #64b5f6;\">ORG</span></span> и Grand Theft Auto.\n",
       "\n",
       "\n",
       "== Талисман ==\n",
       "Оригинальным талисманом <span style=\"padding: 2px; border-radius: 4px; border: 1px solid #bbdefb; background: #e3f2fd\">Capcom<span style=\"vertical-align: middle; margin-left: 2px; font-size: 0.7em; color: #64b5f6;\">ORG</span></span> является <span style=\"padding: 2px; border-radius: 4px; border: 1px solid #ffcdd2; background: #ffebee\">Капитан Коммандо,<span style=\"vertical-align: middle; margin-left: 2px; font-size: 0.7em; color: #e57373;\">PER</span></span> супергерой, одетый в футуристическую броню. Его имя образовано от названия компании <span style=\"padding: 2px; border-radius: 4px; border: 1px solid #ffcdd2; background: #ffebee\">Cap(tain)Com(mando).<span style=\"vertical-align: middle; margin-left: 2px; font-size: 0.7em; color: #e57373;\">PER</span></span> Впервые он появился в ранней игре <span style=\"padding: 2px; border-radius: 4px; border: 1px solid #bbdefb; background: #e3f2fd\">Capcom<span style=\"vertical-align: middle; margin-left: 2px; font-size: 0.7em; color: #64b5f6;\">ORG</span></span> для Famicom/NES под названием «Section Z» и мелькал в руководствах к ранним NES играм <span style=\"padding: 2px; border-radius: 4px; border: 1px solid #bbdefb; background: #e3f2fd\">Capcom.<span style=\"vertical-align: middle; margin-left: 2px; font-size: 0.7em; color: #64b5f6;\">ORG</span></span> Также он стал главным героем в игре «Captain Commando» 1991 года. Позже он стал одним из бойцов в «Marvel vs. Capcom» и её сиквеле. В «Marvel vs. Capcom» он всё ещё является символом <span style=\"padding: 2px; border-radius: 4px; border: 1px solid #bbdefb; background: #e3f2fd\">Capcom,<span style=\"vertical-align: middle; margin-left: 2px; font-size: 0.7em; color: #64b5f6;\">ORG</span></span> например регулярно выкрикивая «Capcom!» во время сражений.\n",
       "Mega <span style=\"padding: 2px; border-radius: 4px; border: 1px solid #ffcdd2; background: #ffebee\">Man<span style=\"vertical-align: middle; margin-left: 2px; font-size: 0.7em; color: #e57373;\">PER</span></span> заменил <span style=\"padding: 2px; border-radius: 4px; border: 1px solid #ffcdd2; background: #ffebee\">Капитана Коммандо<span style=\"vertical-align: middle; margin-left: 2px; font-size: 0.7em; color: #e57373;\">PER</span></span> на постаменте талисмана, в основном потому, что серия «Mega Man» является сейчас довольно популярной и более известной.\n",
       "Также <span style=\"padding: 2px; border-radius: 4px; border: 1px solid #ffcdd2; background: #ffebee\">Рю,<span style=\"vertical-align: middle; margin-left: 2px; font-size: 0.7em; color: #e57373;\">PER</span></span> один из самых выдающихся персонажей <span style=\"padding: 2px; border-radius: 4px; border: 1px solid #bbdefb; background: #e3f2fd\">Capcom<span style=\"vertical-align: middle; margin-left: 2px; font-size: 0.7em; color: #64b5f6;\">ORG</span></span> из Street Fighter, который на данный момент не только лицо файтингов <span style=\"padding: 2px; border-radius: 4px; border: 1px solid #bbdefb; background: #e3f2fd\">Capcom,<span style=\"vertical-align: middle; margin-left: 2px; font-size: 0.7em; color: #64b5f6;\">ORG</span></span> но и целого жанра файтингов.\n",
       "В последние годы участилась тенденция использования <span style=\"padding: 2px; border-radius: 4px; border: 1px solid #ffcdd2; background: #ffebee\">Сервботов<span style=\"vertical-align: middle; margin-left: 2px; font-size: 0.7em; color: #e57373;\">PER</span></span> из серии игр MegaMan: Legends. Игрушки и изображения Сервботов нередко сопровождают игровые выставки, где участвует <span style=\"padding: 2px; border-radius: 4px; border: 1px solid #bbdefb; background: #e3f2fd\">Capcom.<span style=\"vertical-align: middle; margin-left: 2px; font-size: 0.7em; color: #64b5f6;\">ORG</span></span>\n",
       "\n",
       "\n",
       "== Студии Capcom ==\n",
       "Каждая студия <span style=\"padding: 2px; border-radius: 4px; border: 1px solid #bbdefb; background: #e3f2fd\">Capcom<span style=\"vertical-align: middle; margin-left: 2px; font-size: 0.7em; color: #64b5f6;\">ORG</span></span> — это разработчик, создающий игры под лейблом <span style=\"padding: 2px; border-radius: 4px; border: 1px solid #bbdefb; background: #e3f2fd\">Capcom.<span style=\"vertical-align: middle; margin-left: 2px; font-size: 0.7em; color: #64b5f6;\">ORG</span></span> Студии разделены на различные секции и пронумерованы, за исключением независимых <span style=\"padding: 2px; border-radius: 4px; border: 1px solid #bbdefb; background: #e3f2fd\">Clover Studio<span style=\"vertical-align: middle; margin-left: 2px; font-size: 0.7em; color: #64b5f6;\">ORG</span></span> (более не существующей) и <span style=\"padding: 2px; border-radius: 4px; border: 1px solid #bbdefb; background: #e3f2fd\">Flagship,<span style=\"vertical-align: middle; margin-left: 2px; font-size: 0.7em; color: #64b5f6;\">ORG</span></span> основанной <span style=\"padding: 2px; border-radius: 4px; border: 1px solid #bbdefb; background: #e3f2fd\">Capcom<span style=\"vertical-align: middle; margin-left: 2px; font-size: 0.7em; color: #64b5f6;\">ORG</span></span> в <span style=\"padding: 2px; border-radius: 4px; border: 1px solid #c8e6c9; background: #e8f5e9\">Японии.<span style=\"vertical-align: middle; margin-left: 2px; font-size: 0.7em; color: #66bb6a;\">LOC</span></span>\n",
       "\n",
       " <span style=\"padding: 2px; border-radius: 4px; border: 1px solid #bbdefb; background: #e3f2fd\">Consumer Games Development Division 1<span style=\"vertical-align: middle; margin-left: 2px; font-size: 0.7em; color: #64b5f6;\">ORG</span></span> (ранее <span style=\"padding: 2px; border-radius: 4px; border: 1px solid #bbdefb; background: #e3f2fd\">Capcom R&amp;D Division<span style=\"vertical-align: middle; margin-left: 2px; font-size: 0.7em; color: #64b5f6;\">ORG</span></span> 1) — основная студия <span style=\"padding: 2px; border-radius: 4px; border: 1px solid #bbdefb; background: #e3f2fd\">Capcom.<span style=\"vertical-align: middle; margin-left: 2px; font-size: 0.7em; color: #64b5f6;\">ORG</span></span> Ответственна за серии игр Resident Evil, Devil May Cry, Marvel vs. Capcom, Mega Man и многие другие.\n",
       " <span style=\"padding: 2px; border-radius: 4px; border: 1px solid #bbdefb; background: #e3f2fd\">Consumer Games Development Division 2<span style=\"vertical-align: middle; margin-left: 2px; font-size: 0.7em; color: #64b5f6;\">ORG</span></span> (ранее <span style=\"padding: 2px; border-radius: 4px; border: 1px solid #bbdefb; background: #e3f2fd\">Capcom R&amp;D Division 2)<span style=\"vertical-align: middle; margin-left: 2px; font-size: 0.7em; color: #64b5f6;\">ORG</span></span> — ответственна за серии игр Ace Attorney, Monster Hunter и Street Fighter.\n",
       " <span style=\"padding: 2px; border-radius: 4px; border: 1px solid #bbdefb; background: #e3f2fd\">Mobile Online Development Division<span style=\"vertical-align: middle; margin-left: 2px; font-size: 0.7em; color: #64b5f6;\">ORG</span></span> — ответственна за онлайновые и мобильные игры компании.\n",
       " <span style=\"padding: 2px; border-radius: 4px; border: 1px solid #bbdefb; background: #e3f2fd\">K2<span style=\"vertical-align: middle; margin-left: 2px; font-size: 0.7em; color: #64b5f6;\">ORG</span></span> — студия, содействующая основным студиям в разработке видеоигр. Была приобретена в 2008 году.\n",
       " <span style=\"padding: 2px; border-radius: 4px; border: 1px solid #bbdefb; background: #e3f2fd\">M-Two<span style=\"vertical-align: middle; margin-left: 2px; font-size: 0.7em; color: #64b5f6;\">ORG</span></span> — новоиспеченная студия компании, основанная сооснователем <span style=\"padding: 2px; border-radius: 4px; border: 1px solid #bbdefb; background: #e3f2fd\">PlatinumGames<span style=\"vertical-align: middle; margin-left: 2px; font-size: 0.7em; color: #64b5f6;\">ORG</span></span> <span style=\"padding: 2px; border-radius: 4px; border: 1px solid #ffcdd2; background: #ffebee\">Тацуей Минами.<span style=\"vertical-align: middle; margin-left: 2px; font-size: 0.7em; color: #e57373;\">PER</span></span> Ответственна за разработку Resident Evil 3 (2020).\n",
       "\n",
       "\n",
       "=== Закрытые ===\n",
       " <span style=\"padding: 2px; border-radius: 4px; border: 1px solid #bbdefb; background: #e3f2fd\">Capcom Production Studio 4<span style=\"vertical-align: middle; margin-left: 2px; font-size: 0.7em; color: #64b5f6;\">ORG</span></span> — студия, ранее ответственная за серии игр Ace Attorney (2001—2004) и Dino Crisis, а также за игры Devil May Cry (2001), Resident Evil 3: Nemesis, Resident Evil Code: Veronica и Resident Evil 4. Закрыта в 2005 году.\n",
       " <span style=\"padding: 2px; border-radius: 4px; border: 1px solid #bbdefb; background: #e3f2fd\">Clover Studio<span style=\"vertical-align: middle; margin-left: 2px; font-size: 0.7em; color: #64b5f6;\">ORG</span></span> — студия, ранее ответственная за игры God Hand, Okami и за серию игр Viewtiful Joe. Закрыта в 2007 году.\n",
       " <span style=\"padding: 2px; border-radius: 4px; border: 1px solid #bbdefb; background: #e3f2fd\">Capcom Vancouver<span style=\"vertical-align: middle; margin-left: 2px; font-size: 0.7em; color: #64b5f6;\">ORG</span></span> — студия, ранее ответственная за серию игр Dead Rising (2010—2016). Закрыта в 2018 году.\n",
       "\n",
       "\n",
       "== Филиалы и связанные корпорации ==\n",
       "<span style=\"padding: 2px; border-radius: 4px; border: 1px solid #bbdefb; background: #e3f2fd\">Capcom Entertainment, Inc.\n",
       "Capcom U.S.A., Inc.<span style=\"vertical-align: middle; margin-left: 2px; font-size: 0.7em; color: #64b5f6;\">ORG</span></span> основана в <span style=\"padding: 2px; border-radius: 4px; border: 1px solid #c8e6c9; background: #e8f5e9\">Калифорнии<span style=\"vertical-align: middle; margin-left: 2px; font-size: 0.7em; color: #66bb6a;\">LOC</span></span> как официальный филиал <span style=\"padding: 2px; border-radius: 4px; border: 1px solid #bbdefb; background: #e3f2fd\">Capcom<span style=\"vertical-align: middle; margin-left: 2px; font-size: 0.7em; color: #64b5f6;\">ORG</span></span> в <span style=\"padding: 2px; border-radius: 4px; border: 1px solid #c8e6c9; background: #e8f5e9\">Северной Америке<span style=\"vertical-align: middle; margin-left: 2px; font-size: 0.7em; color: #66bb6a;\">LOC</span></span> в августе 1985 года.\n",
       "Capcom <span style=\"padding: 2px; border-radius: 4px; border: 1px solid #bbdefb; background: #e3f2fd\">Studio 8, Inc.<span style=\"vertical-align: middle; margin-left: 2px; font-size: 0.7em; color: #64b5f6;\">ORG</span></span> основана как R&amp;D отдел <span style=\"padding: 2px; border-radius: 4px; border: 1px solid #bbdefb; background: #e3f2fd\">Capcom USA, Inc.<span style=\"vertical-align: middle; margin-left: 2px; font-size: 0.7em; color: #64b5f6;\">ORG</span></span> в июне 1995. Студия была закрыта в 2006 году.\n",
       "Capcom <span style=\"padding: 2px; border-radius: 4px; border: 1px solid #bbdefb; background: #e3f2fd\">Asia Co., Ltd.<span style=\"vertical-align: middle; margin-left: 2px; font-size: 0.7em; color: #64b5f6;\">ORG</span></span> основана в <span style=\"padding: 2px; border-radius: 4px; border: 1px solid #c8e6c9; background: #e8f5e9\">Гонконге<span style=\"vertical-align: middle; margin-left: 2px; font-size: 0.7em; color: #66bb6a;\">LOC</span></span> как официальный азиатский филиал <span style=\"padding: 2px; border-radius: 4px; border: 1px solid #bbdefb; background: #e3f2fd\">Capcom<span style=\"vertical-align: middle; margin-left: 2px; font-size: 0.7em; color: #64b5f6;\">ORG</span></span> в 1993 году.\n",
       "Capcom <span style=\"padding: 2px; border-radius: 4px; border: 1px solid #bbdefb; background: #e3f2fd\">Eurosoft Ltd.<span style=\"vertical-align: middle; margin-left: 2px; font-size: 0.7em; color: #64b5f6;\">ORG</span></span> основана в <span style=\"padding: 2px; border-radius: 4px; border: 1px solid #c8e6c9; background: #e8f5e9\">Объединённом Королевстве<span style=\"vertical-align: middle; margin-left: 2px; font-size: 0.7em; color: #66bb6a;\">LOC</span></span> как официальный европейский филиал <span style=\"padding: 2px; border-radius: 4px; border: 1px solid #bbdefb; background: #e3f2fd\">Capcom<span style=\"vertical-align: middle; margin-left: 2px; font-size: 0.7em; color: #64b5f6;\">ORG</span></span> в июле 1998 года.\n",
       "KOKO <span style=\"padding: 2px; border-radius: 4px; border: 1px solid #bbdefb; background: #e3f2fd\">Capcom Asia Co., Ltd.<span style=\"vertical-align: middle; margin-left: 2px; font-size: 0.7em; color: #64b5f6;\">ORG</span></span> — официальный южнокорейский филиал <span style=\"padding: 2px; border-radius: 4px; border: 1px solid #bbdefb; background: #e3f2fd\">Capcom,<span style=\"vertical-align: middle; margin-left: 2px; font-size: 0.7em; color: #64b5f6;\">ORG</span></span> основанный в июле 2001 года.\n",
       "Suleputer была основана для торговли и дистрибуции игр и сопутствующих товаров (книг, музыки, аниме и т. д.) в <span style=\"padding: 2px; border-radius: 4px; border: 1px solid #c8e6c9; background: #e8f5e9\">Азии.<span style=\"vertical-align: middle; margin-left: 2px; font-size: 0.7em; color: #66bb6a;\">LOC</span></span> Название происходит от <span style=\"padding: 2px; border-radius: 4px; border: 1px solid #bbdefb; background: #e3f2fd\">Capsule Computer.\n",
       "Captron Co., Ltd.<span style=\"vertical-align: middle; margin-left: 2px; font-size: 0.7em; color: #64b5f6;\">ORG</span></span> основана для управлением делами недвижимости.\n",
       "Flagship <span style=\"padding: 2px; border-radius: 4px; border: 1px solid #bbdefb; background: #e3f2fd\">Co., Ltd.<span style=\"vertical-align: middle; margin-left: 2px; font-size: 0.7em; color: #64b5f6;\">ORG</span></span> — студия, создавшая «Onimusha» и «Zelda» на Game Boy Color и Game Boy Advance, выпустившая «The Legend of Zelda: The Minish Cap».\n",
       "Capcom <span style=\"padding: 2px; border-radius: 4px; border: 1px solid #bbdefb; background: #e3f2fd\">Charbo Co., Ltd.<span style=\"vertical-align: middle; margin-left: 2px; font-size: 0.7em; color: #64b5f6;\">ORG</span></span> основана для управления арендой и эксплуатацией электронных игровых машин.\n",
       "CE <span style=\"padding: 2px; border-radius: 4px; border: 1px solid #bbdefb; background: #e3f2fd\">Europe Ltd.<span style=\"vertical-align: middle; margin-left: 2px; font-size: 0.7em; color: #64b5f6;\">ORG</span></span> была основана в <span style=\"padding: 2px; border-radius: 4px; border: 1px solid #c8e6c9; background: #e8f5e9\">Лондоне<span style=\"vertical-align: middle; margin-left: 2px; font-size: 0.7em; color: #66bb6a;\">LOC</span></span> в ноябре 2002.\n",
       "CEG <span style=\"padding: 2px; border-radius: 4px; border: 1px solid #bbdefb; background: #e3f2fd\">Interactive Entertainment GmbH<span style=\"vertical-align: middle; margin-left: 2px; font-size: 0.7em; color: #64b5f6;\">ORG</span></span> была основана в <span style=\"padding: 2px; border-radius: 4px; border: 1px solid #c8e6c9; background: #e8f5e9\">Германии<span style=\"vertical-align: middle; margin-left: 2px; font-size: 0.7em; color: #66bb6a;\">LOC</span></span> в феврале 2003.\n",
       "Nude <span style=\"padding: 2px; border-radius: 4px; border: 1px solid #bbdefb; background: #e3f2fd\">Maker Co., Ltd.<span style=\"vertical-align: middle; margin-left: 2px; font-size: 0.7em; color: #64b5f6;\">ORG</span></span> — студия, создавшая «Clock Tower» 1, 2 и «Steel Battalion» для PlayStation и Xbox.\n",
       "Clover <span style=\"padding: 2px; border-radius: 4px; border: 1px solid #bbdefb; background: #e3f2fd\">Studio Co., Ltd.<span style=\"vertical-align: middle; margin-left: 2px; font-size: 0.7em; color: #64b5f6;\">ORG</span></span> — студия, основанная в <span style=\"padding: 2px; border-radius: 4px; border: 1px solid #c8e6c9; background: #e8f5e9\">Осаке<span style=\"vertical-align: middle; margin-left: 2px; font-size: 0.7em; color: #66bb6a;\">LOC</span></span> в июле 2004 года и распущенная в марте 2007 года. Она разработала серии «Viewtiful Joe», «Okami» и «God Hand».\n",
       "SEEDS <span style=\"padding: 2px; border-radius: 4px; border: 1px solid #bbdefb; background: #e3f2fd\">Inc.<span style=\"vertical-align: middle; margin-left: 2px; font-size: 0.7em; color: #64b5f6;\">ORG</span></span> создана из бывших сотрудников <span style=\"padding: 2px; border-radius: 4px; border: 1px solid #bbdefb; background: #e3f2fd\">Clover Studio.\n",
       "Nickel City<span style=\"vertical-align: middle; margin-left: 2px; font-size: 0.7em; color: #64b5f6;\">ORG</span></span> — цепь видеоаркад, однажды купленная <span style=\"padding: 2px; border-radius: 4px; border: 1px solid #bbdefb; background: #e3f2fd\">Capcom<span style=\"vertical-align: middle; margin-left: 2px; font-size: 0.7em; color: #64b5f6;\">ORG</span></span> и позже проданная в 2004 году.\n",
       "Capcom <span style=\"padding: 2px; border-radius: 4px; border: 1px solid #bbdefb; background: #e3f2fd\">Interactive Canada<span style=\"vertical-align: middle; margin-left: 2px; font-size: 0.7em; color: #64b5f6;\">ORG</span></span> — отдел <span style=\"padding: 2px; border-radius: 4px; border: 1px solid #bbdefb; background: #e3f2fd\">Capcom,<span style=\"vertical-align: middle; margin-left: 2px; font-size: 0.7em; color: #64b5f6;\">ORG</span></span> ориентированный на разработку игр под мобильные платформы.\n",
       "\n",
       "\n",
       "== Фильмы и телевидение ==\n",
       "Герои и игры <span style=\"padding: 2px; border-radius: 4px; border: 1px solid #bbdefb; background: #e3f2fd\">Capcom<span style=\"vertical-align: middle; margin-left: 2px; font-size: 0.7em; color: #64b5f6;\">ORG</span></span> породили множество фильмов и мультфильмов. Некоторые из них:\n",
       "\n",
       "Символ компании, <span style=\"padding: 2px; border-radius: 4px; border: 1px solid #ffcdd2; background: #ffebee\">Mega Man,<span style=\"vertical-align: middle; margin-left: 2px; font-size: 0.7em; color: #e57373;\">PER</span></span> сыграл второстепенную роль в ТВ-шоу <span style=\"padding: 2px; border-radius: 4px; border: 1px solid #bbdefb; background: #e3f2fd\">Nintendo<span style=\"vertical-align: middle; margin-left: 2px; font-size: 0.7em; color: #64b5f6;\">ORG</span></span> «Captain N: The Game Master» и также потом появился в трёх сериалах: «Mega Man» и двух аниме «MegaMan NT Warrior» и «Ryusei no Rockman». Он также был главным героем «Mega Man: Upon a Star|three OVAs», выпущенном в 1993 в <span style=\"padding: 2px; border-radius: 4px; border: 1px solid #c8e6c9; background: #e8f5e9\">Японии<span style=\"vertical-align: middle; margin-left: 2px; font-size: 0.7em; color: #66bb6a;\">LOC</span></span> и «NT Warrior» — аниме-сериале, породившем 48-минутный фильм «Rockman EXE: The Program of Light and Dark», и героем сериала «Mega Man X», снятого в <span style=\"padding: 2px; border-radius: 4px; border: 1px solid #c8e6c9; background: #e8f5e9\">Америке<span style=\"vertical-align: middle; margin-left: 2px; font-size: 0.7em; color: #66bb6a;\">LOC</span></span> в начале 90-х.\n",
       "В 1994 был создан полнометражный мультфильм «Street Fighter II: The Animated Movie», последовавший за фильмом «Уличный боец». Вскоре после этого появилось два мультсериала «Street Fighter II V» и «Street Fighter: The Animated Series» в 1995.\n",
       "Битвы между героями Street Fighter II можно увидеть в фильме «Городской охотник» с <span style=\"padding: 2px; border-radius: 4px; border: 1px solid #ffcdd2; background: #ffebee\">Джеки Чаном.\n",
       "Файтинг<span style=\"vertical-align: middle; margin-left: 2px; font-size: 0.7em; color: #e57373;\">PER</span></span> «Darkstalkers» вдохновил на создание двух мультсериалов — «Vampire Hunter: The Animated Series» в <span style=\"padding: 2px; border-radius: 4px; border: 1px solid #c8e6c9; background: #e8f5e9\">Японии<span style=\"vertical-align: middle; margin-left: 2px; font-size: 0.7em; color: #66bb6a;\">LOC</span></span> (выходил под названием «Night Warriors: Darkstalkers&#x27; Revenge» в других странах) и «Darkstalkers» в <span style=\"padding: 2px; border-radius: 4px; border: 1px solid #c8e6c9; background: #e8f5e9\">США.\n",
       "Аниме-сериал<span style=\"vertical-align: middle; margin-left: 2px; font-size: 0.7em; color: #66bb6a;\">LOC</span></span> по мотивам «Viewtiful Joe» был создан в 2004. Он содержал 52 эпизода и был вдохновлён первой и второй играми серии.\n",
       "Объявлено о съёмках фильмов по мотивам Devil May Cry и Clock Tower.\n",
       "Более того в 2007 вышло аниме по мотивам Devil May Cry.\n",
       "Серия фильмов «Обитель зла» от режиссёра <span style=\"padding: 2px; border-radius: 4px; border: 1px solid #ffcdd2; background: #ffebee\">Пола Андерсона.\n",
       "В<span style=\"vertical-align: middle; margin-left: 2px; font-size: 0.7em; color: #e57373;\">PER</span></span> 2012 году вышел фильм по мотивам первой игры серии Ace Attorney (Gyakuten Saiban).\n",
       "Также в 2016 году был создан аниме-сериал по мотивам первых двух игр серии Ace Attorney (Gyakuten Saiban) и содержит в себе 24 эпизода в качестве первого сезона. В 2018 году вышло продолжение, сделанное по мотивам третьей части игры.\n",
       "\n",
       "\n",
       "== Игры Capcom ==\n",
       "\n",
       "\n",
       "=== Платиновые тайтлы Capcom ===\n",
       "<span style=\"padding: 2px; border-radius: 4px; border: 1px solid #bbdefb; background: #e3f2fd\">Capcom<span style=\"vertical-align: middle; margin-left: 2px; font-size: 0.7em; color: #64b5f6;\">ORG</span></span> составляет обновляющийся ежеквартально список из своих игр, тираж которых превысил миллион экземпляров, и называется «Платиновыми тайтлами». Список состоит из более чем 90 видеоигр, а вот десять самых продаваемых изданий по состоянию на 30 сентября 2023 года.\n",
       "\n",
       "* - с учетом продаж издания &quot;Monster Hunter World: Iceborne Master Edition&quot;: 23.10 млн. копий\n",
       "\n",
       "\n",
       "== Примечания ==\n",
       "\n",
       "\n",
       "== Источники ==\n",
       "«CAPCOM: Corporate Profile: <span style=\"padding: 2px; border-radius: 4px; border: 1px solid #bbdefb; background: #e3f2fd\">Capcom Group<span style=\"vertical-align: middle; margin-left: 2px; font-size: 0.7em; color: #64b5f6;\">ORG</span></span> Архивная копия от 12 октября 2007 на <span style=\"padding: 2px; border-radius: 4px; border: 1px solid #bbdefb; background: #e3f2fd\">Wayback Machine.»<span style=\"vertical-align: middle; margin-left: 2px; font-size: 0.7em; color: #64b5f6;\">ORG</span></span> Декабрь 27, 2004. Accessed on March 6, 2006.\n",
       "«CAPCOM: Corporate Profile: Corporate History Архивная копия от 15 апреля 2010 на <span style=\"padding: 2px; border-radius: 4px; border: 1px solid #bbdefb; background: #e3f2fd\">Wayback Machine.»<span style=\"vertical-align: middle; margin-left: 2px; font-size: 0.7em; color: #64b5f6;\">ORG</span></span> 20 июня, 2005.\n",
       "«CAPCOM: Financial Information Архивная копия от 14 мая 2005 на <span style=\"padding: 2px; border-radius: 4px; border: 1px solid #bbdefb; background: #e3f2fd\">Wayback Machine.»<span style=\"vertical-align: middle; margin-left: 2px; font-size: 0.7em; color: #64b5f6;\">ORG</span></span> 20 июня 2005.\n",
       "\n",
       "\n",
       "== Ссылки ==\n",
       "<span style=\"padding: 2px; border-radius: 4px; border: 1px solid #bbdefb; background: #e3f2fd\">Capcom Co. Ltd.<span style=\"vertical-align: middle; margin-left: 2px; font-size: 0.7em; color: #64b5f6;\">ORG</span></span> Архивная копия от 2 августа 2011 на Wayback Machine (яп.)\n",
       "Capcom <span style=\"padding: 2px; border-radius: 4px; border: 1px solid #bbdefb; background: #e3f2fd\">U.S.A., Inc.<span style=\"vertical-align: middle; margin-left: 2px; font-size: 0.7em; color: #64b5f6;\">ORG</span></span> Архивная копия от 24 августа 2013 на Wayback Machine\n",
       "Capcom <span style=\"padding: 2px; border-radius: 4px; border: 1px solid #bbdefb; background: #e3f2fd\">Europe Ltd.<span style=\"vertical-align: middle; margin-left: 2px; font-size: 0.7em; color: #64b5f6;\">ORG</span></span> Архивная копия от 12 мая 2008 на Wayback <span style=\"padding: 2px; border-radius: 4px; border: 1px solid #c8e6c9; background: #e8f5e9\">Machine\n",
       "Capcom<span style=\"vertical-align: middle; margin-left: 2px; font-size: 0.7em; color: #66bb6a;\">LOC</span></span> Архивная копия от 8 марта 2005 на Wayback <span style=\"padding: 2px; border-radius: 4px; border: 1px solid #c8e6c9; background: #e8f5e9\">Machine<span style=\"vertical-align: middle; margin-left: 2px; font-size: 0.7em; color: #66bb6a;\">LOC</span></span> // <span style=\"padding: 2px; border-radius: 4px; border: 1px solid #bbdefb; background: #e3f2fd\">MobyGames\n",
       "Capcom-Central.com<span style=\"vertical-align: middle; margin-left: 2px; font-size: 0.7em; color: #64b5f6;\">ORG</span></span> — игры <span style=\"padding: 2px; border-radius: 4px; border: 1px solid #bbdefb; background: #e3f2fd\">Capcom<span style=\"vertical-align: middle; margin-left: 2px; font-size: 0.7em; color: #64b5f6;\">ORG</span></span></div>"
      ],
      "text/plain": [
       "<IPython.core.display.HTML object>"
      ]
     },
     "metadata": {},
     "output_type": "display_data"
    }
   ],
   "source": [
    "spans = [(x['start'], x['end'], x['entity_group']) for x in outputs[1]]\n",
    "\n",
    "show_span_box_markup(article, spans)"
   ]
  },
  {
   "cell_type": "markdown",
   "id": "356caf5d-ff7b-48ef-9b52-2f5b1e79bf84",
   "metadata": {},
   "source": [
    "#### mdeberta:"
   ]
  },
  {
   "cell_type": "code",
   "execution_count": 15,
   "id": "78805049-0f8e-4621-94b7-4a2229ef9caa",
   "metadata": {},
   "outputs": [
    {
     "data": {
      "text/html": [
       "<div class=\"tex2jax_ignore\" style=\"white-space: pre-wrap\"><span style=\"padding: 2px; border-radius: 4px; border: 1px solid #ffe0b2; background: #fff3e0\">Capcom Co., Ltd.<span style=\"vertical-align: middle; margin-left: 2px; font-size: 0.7em; color: #ffb74d;\">ORGANIZATION</span></span> (яп.<span style=\"padding: 2px; border-radius: 4px; border: 1px solid #ffe0b2; background: #fff3e0\"> 株式会社カプコン Кабусики-гайся Капукон)<span style=\"vertical-align: middle; margin-left: 2px; font-size: 0.7em; color: #ffb74d;\">ORGANIZATION</span></span> —<span style=\"padding: 2px; border-radius: 4px; border: 1px solid #d1c4e9; background: #ede7f6\"> <span style=\"vertical-align: middle; margin-left: 2px; font-size: 0.7em; color: #9575cd;\">COUNTRY</span></span><span style=\"padding: 2px; border-radius: 4px; border: 1px solid #d1c4e9; background: #ede7f6\">японская<span style=\"vertical-align: middle; margin-left: 2px; font-size: 0.7em; color: #9575cd;\">COUNTRY</span></span><span style=\"padding: 2px; border-radius: 4px; border: 1px solid #ffe0b2; background: #fff3e0\"> корпорация,<span style=\"vertical-align: middle; margin-left: 2px; font-size: 0.7em; color: #ffb74d;\">ORGANIZATION</span></span> один из крупнейших в мире разработчиков и издателей компьютерных видеоигр, со штаб-квартирой в городе<span style=\"padding: 2px; border-radius: 4px; border: 1px solid #d7ccc8; background: #efebe9\"> Осака.<span style=\"vertical-align: middle; margin-left: 2px; font-size: 0.7em; color: #a1887f;\">CITY</span></span><span style=\"padding: 2px; border-radius: 4px; border: 1px solid #ffe0b2; background: #fff3e0\"> Корпорация<span style=\"vertical-align: middle; margin-left: 2px; font-size: 0.7em; color: #ffb74d;\">ORGANIZATION</span></span> была основана в 1979 году под названием<span style=\"padding: 2px; border-radius: 4px; border: 1px solid #ffe0b2; background: #fff3e0\"> Japan Capsule Computers,<span style=\"vertical-align: middle; margin-left: 2px; font-size: 0.7em; color: #ffb74d;\">ORGANIZATION</span></span> как<span style=\"padding: 2px; border-radius: 4px; border: 1px solid #ffe0b2; background: #fff3e0\"> компания по производству и дистрибуции<span style=\"vertical-align: middle; margin-left: 2px; font-size: 0.7em; color: #ffb74d;\">ORGANIZATION</span></span> электронных игровых машин. Настоящее название это аббревиатура от Capsule и Computers. На приставки 3-4 поколения (NES, Sega, SNES)<span style=\"padding: 2px; border-radius: 4px; border: 1px solid #ffe0b2; background: #fff3e0\"> компания<span style=\"vertical-align: middle; margin-left: 2px; font-size: 0.7em; color: #ffb74d;\">ORGANIZATION</span></span> создавала игры по мотивам мультфильмов<span style=\"padding: 2px; border-radius: 4px; border: 1px solid #bbdefb; background: #e3f2fd\"> Walt<span style=\"vertical-align: middle; margin-left: 2px; font-size: 0.7em; color: #64b5f6;\">PERSON</span></span> Disney.\n",
       "На сегодняшний день<span style=\"padding: 2px; border-radius: 4px; border: 1px solid #ffe0b2; background: #fff3e0\"> компания<span style=\"vertical-align: middle; margin-left: 2px; font-size: 0.7em; color: #ffb74d;\">ORGANIZATION</span></span> известна как владелец нескольких крупных игровых франшиз, среди которых: Resident Evil, Devil May Cry, Street Fighter, Mega Man, Lost Planet, Monster Hunter и Ace Attorney.\n",
       "Capcom также активно работает как издатель и локализатор<span style=\"padding: 2px; border-radius: 4px; border: 1px solid #c8e6c9; background: #e8f5e9\"> западных<span style=\"vertical-align: middle; margin-left: 2px; font-size: 0.7em; color: #66bb6a;\">GPE</span></span> продуктов на востоке, примером может быть «X2» от Team 17 и Grand Theft Auto.\n",
       "\n",
       "\n",
       "== Талисман ==\n",
       "Оригинальным талисманом<span style=\"padding: 2px; border-radius: 4px; border: 1px solid #ffe0b2; background: #fff3e0\"> Capcom<span style=\"vertical-align: middle; margin-left: 2px; font-size: 0.7em; color: #ffb74d;\">ORGANIZATION</span></span> является<span style=\"padding: 2px; border-radius: 4px; border: 1px solid #bbdefb; background: #e3f2fd\"> Капитан Коммандо,<span style=\"vertical-align: middle; margin-left: 2px; font-size: 0.7em; color: #64b5f6;\">PERSON</span></span> супергерой, одетый в футуристическую броню. Его имя образовано от названия<span style=\"padding: 2px; border-radius: 4px; border: 1px solid #ffe0b2; background: #fff3e0\"> компании Cap(tain)Com(mando).<span style=\"vertical-align: middle; margin-left: 2px; font-size: 0.7em; color: #ffb74d;\">ORGANIZATION</span></span> Впервые он появился в ранней игре Capcom для Famicom/NES под названием «Section Z» и мелькал в руководствах к ранним NES играм<span style=\"padding: 2px; border-radius: 4px; border: 1px solid #ffe0b2; background: #fff3e0\"> Capcom.<span style=\"vertical-align: middle; margin-left: 2px; font-size: 0.7em; color: #ffb74d;\">ORGANIZATION</span></span> Также он стал главным героем в игре «Captain Commando» 1991 года. Позже он стал одним из бойцов в «Marvel vs. Capcom» и её сиквеле. В «Marvel vs. Capcom» он всё ещё является символом<span style=\"padding: 2px; border-radius: 4px; border: 1px solid #ffe0b2; background: #fff3e0\"> Capcom,<span style=\"vertical-align: middle; margin-left: 2px; font-size: 0.7em; color: #ffb74d;\">ORGANIZATION</span></span> например регулярно выкрикивая «Capcom!» во время сражений.\n",
       "Mega Man заменил Капитана<span style=\"padding: 2px; border-radius: 4px; border: 1px solid #bbdefb; background: #e3f2fd\"> Коммандо<span style=\"vertical-align: middle; margin-left: 2px; font-size: 0.7em; color: #64b5f6;\">PERSON</span></span> на постаменте талисмана, в основном потому, что серия «Mega Man» является сейчас довольно популярной и более известной.\n",
       "Также<span style=\"padding: 2px; border-radius: 4px; border: 1px solid #bbdefb; background: #e3f2fd\"> Рю,<span style=\"vertical-align: middle; margin-left: 2px; font-size: 0.7em; color: #64b5f6;\">PERSON</span></span> один из самых выдающихся персонажей<span style=\"padding: 2px; border-radius: 4px; border: 1px solid #ffe0b2; background: #fff3e0\"> Capcom<span style=\"vertical-align: middle; margin-left: 2px; font-size: 0.7em; color: #ffb74d;\">ORGANIZATION</span></span> из Street Fighter, который на данный момент не только лицо файтингов<span style=\"padding: 2px; border-radius: 4px; border: 1px solid #ffe0b2; background: #fff3e0\"> Capcom,<span style=\"vertical-align: middle; margin-left: 2px; font-size: 0.7em; color: #ffb74d;\">ORGANIZATION</span></span> но и целого жанра файтингов.\n",
       "В последние годы участилась тенденция использования Сервботов из серии игр MegaMan: Legends. Игрушки и изображения Сервботов нередко сопровождают игровые выставки, где участвует<span style=\"padding: 2px; border-radius: 4px; border: 1px solid #ffe0b2; background: #fff3e0\"> Capcom.<span style=\"vertical-align: middle; margin-left: 2px; font-size: 0.7em; color: #ffb74d;\">ORGANIZATION</span></span>\n",
       "\n",
       "\n",
       "== Студии Capcom ==\n",
       "Каждая<span style=\"padding: 2px; border-radius: 4px; border: 1px solid #ffe0b2; background: #fff3e0\"> студия<span style=\"vertical-align: middle; margin-left: 2px; font-size: 0.7em; color: #ffb74d;\">ORGANIZATION</span></span><span style=\"padding: 2px; border-radius: 4px; border: 1px solid #ffe0b2; background: #fff3e0\"> Capcom<span style=\"vertical-align: middle; margin-left: 2px; font-size: 0.7em; color: #ffb74d;\">ORGANIZATION</span></span> — это разработчик, создающий игры под лейблом<span style=\"padding: 2px; border-radius: 4px; border: 1px solid #ffe0b2; background: #fff3e0\"> Capcom.<span style=\"vertical-align: middle; margin-left: 2px; font-size: 0.7em; color: #ffb74d;\">ORGANIZATION</span></span><span style=\"padding: 2px; border-radius: 4px; border: 1px solid #ffe0b2; background: #fff3e0\"> Студии<span style=\"vertical-align: middle; margin-left: 2px; font-size: 0.7em; color: #ffb74d;\">ORGANIZATION</span></span> разделены на различные секции и пронумерованы, за исключением независимых<span style=\"padding: 2px; border-radius: 4px; border: 1px solid #ffe0b2; background: #fff3e0\"> Clover Studio<span style=\"vertical-align: middle; margin-left: 2px; font-size: 0.7em; color: #ffb74d;\">ORGANIZATION</span></span> (более не существующей) и<span style=\"padding: 2px; border-radius: 4px; border: 1px solid #ffe0b2; background: #fff3e0\"> Flagship,<span style=\"vertical-align: middle; margin-left: 2px; font-size: 0.7em; color: #ffb74d;\">ORGANIZATION</span></span> основанной<span style=\"padding: 2px; border-radius: 4px; border: 1px solid #ffe0b2; background: #fff3e0\"> Capcom<span style=\"vertical-align: middle; margin-left: 2px; font-size: 0.7em; color: #ffb74d;\">ORGANIZATION</span></span> в<span style=\"padding: 2px; border-radius: 4px; border: 1px solid #d1c4e9; background: #ede7f6\"> <span style=\"vertical-align: middle; margin-left: 2px; font-size: 0.7em; color: #9575cd;\">COUNTRY</span></span><span style=\"padding: 2px; border-radius: 4px; border: 1px solid #d1c4e9; background: #ede7f6\">Японии.<span style=\"vertical-align: middle; margin-left: 2px; font-size: 0.7em; color: #9575cd;\">COUNTRY</span></span>\n",
       "\n",
       "<span style=\"padding: 2px; border-radius: 4px; border: 1px solid #ffe0b2; background: #fff3e0\"> Consumer Games Development Division 1<span style=\"vertical-align: middle; margin-left: 2px; font-size: 0.7em; color: #ffb74d;\">ORGANIZATION</span></span> (ранее<span style=\"padding: 2px; border-radius: 4px; border: 1px solid #ffe0b2; background: #fff3e0\"> Capcom R&amp;D Division 1)<span style=\"vertical-align: middle; margin-left: 2px; font-size: 0.7em; color: #ffb74d;\">ORGANIZATION</span></span> — основная<span style=\"padding: 2px; border-radius: 4px; border: 1px solid #ffe0b2; background: #fff3e0\"> <span style=\"vertical-align: middle; margin-left: 2px; font-size: 0.7em; color: #ffb74d;\">ORGANIZATION</span></span><span style=\"padding: 2px; border-radius: 4px; border: 1px solid #ffe0b2; background: #fff3e0\">студия<span style=\"vertical-align: middle; margin-left: 2px; font-size: 0.7em; color: #ffb74d;\">ORGANIZATION</span></span><span style=\"padding: 2px; border-radius: 4px; border: 1px solid #ffe0b2; background: #fff3e0\"> Capcom.<span style=\"vertical-align: middle; margin-left: 2px; font-size: 0.7em; color: #ffb74d;\">ORGANIZATION</span></span> Ответственна за серии игр Resident Evil, Devil May Cry, Marvel vs. Capcom, Mega Man и многие другие.\n",
       "<span style=\"padding: 2px; border-radius: 4px; border: 1px solid #ffe0b2; background: #fff3e0\"> Consumer Games Development Division 2<span style=\"vertical-align: middle; margin-left: 2px; font-size: 0.7em; color: #ffb74d;\">ORGANIZATION</span></span> (ранее<span style=\"padding: 2px; border-radius: 4px; border: 1px solid #ffe0b2; background: #fff3e0\"> Capcom R&amp;D Division 2)<span style=\"vertical-align: middle; margin-left: 2px; font-size: 0.7em; color: #ffb74d;\">ORGANIZATION</span></span> — ответственна за серии игр Ace Attorney, Monster Hunter и Street Fighter.\n",
       "<span style=\"padding: 2px; border-radius: 4px; border: 1px solid #ffe0b2; background: #fff3e0\"> Mobile Online Development Division<span style=\"vertical-align: middle; margin-left: 2px; font-size: 0.7em; color: #ffb74d;\">ORGANIZATION</span></span> — ответственна за онлайновые и мобильные игры<span style=\"padding: 2px; border-radius: 4px; border: 1px solid #ffe0b2; background: #fff3e0\"> компании.<span style=\"vertical-align: middle; margin-left: 2px; font-size: 0.7em; color: #ffb74d;\">ORGANIZATION</span></span>\n",
       "<span style=\"padding: 2px; border-radius: 4px; border: 1px solid #ffe0b2; background: #fff3e0\"> K2<span style=\"vertical-align: middle; margin-left: 2px; font-size: 0.7em; color: #ffb74d;\">ORGANIZATION</span></span> —<span style=\"padding: 2px; border-radius: 4px; border: 1px solid #ffe0b2; background: #fff3e0\"> студия,<span style=\"vertical-align: middle; margin-left: 2px; font-size: 0.7em; color: #ffb74d;\">ORGANIZATION</span></span> содействующая<span style=\"padding: 2px; border-radius: 4px; border: 1px solid #ffe0b2; background: #fff3e0\"> основным студиям<span style=\"vertical-align: middle; margin-left: 2px; font-size: 0.7em; color: #ffb74d;\">ORGANIZATION</span></span> в разработке видеоигр. Была приобретена в 2008 году.\n",
       "<span style=\"padding: 2px; border-radius: 4px; border: 1px solid #ffe0b2; background: #fff3e0\"> M-Two<span style=\"vertical-align: middle; margin-left: 2px; font-size: 0.7em; color: #ffb74d;\">ORGANIZATION</span></span> — новоиспеченная<span style=\"padding: 2px; border-radius: 4px; border: 1px solid #ffe0b2; background: #fff3e0\"> студия<span style=\"vertical-align: middle; margin-left: 2px; font-size: 0.7em; color: #ffb74d;\">ORGANIZATION</span></span><span style=\"padding: 2px; border-radius: 4px; border: 1px solid #ffe0b2; background: #fff3e0\"> компании,<span style=\"vertical-align: middle; margin-left: 2px; font-size: 0.7em; color: #ffb74d;\">ORGANIZATION</span></span> основанная сооснователем<span style=\"padding: 2px; border-radius: 4px; border: 1px solid #ffe0b2; background: #fff3e0\"> PlatinumGames<span style=\"vertical-align: middle; margin-left: 2px; font-size: 0.7em; color: #ffb74d;\">ORGANIZATION</span></span><span style=\"padding: 2px; border-radius: 4px; border: 1px solid #bbdefb; background: #e3f2fd\"> Тацуей Минами.<span style=\"vertical-align: middle; margin-left: 2px; font-size: 0.7em; color: #64b5f6;\">PERSON</span></span> Ответственна за разработку Resident Evil 3 (2020).\n",
       "\n",
       "\n",
       "=== Закрытые ===\n",
       " <span style=\"padding: 2px; border-radius: 4px; border: 1px solid #ffe0b2; background: #fff3e0\">Capcom Production Studio 4<span style=\"vertical-align: middle; margin-left: 2px; font-size: 0.7em; color: #ffb74d;\">ORGANIZATION</span></span> —<span style=\"padding: 2px; border-radius: 4px; border: 1px solid #ffe0b2; background: #fff3e0\"> <span style=\"vertical-align: middle; margin-left: 2px; font-size: 0.7em; color: #ffb74d;\">ORGANIZATION</span></span><span style=\"padding: 2px; border-radius: 4px; border: 1px solid #ffe0b2; background: #fff3e0\">студия,<span style=\"vertical-align: middle; margin-left: 2px; font-size: 0.7em; color: #ffb74d;\">ORGANIZATION</span></span> ранее ответственная за серии игр Ace Attorney (2001—2004) и Dino Crisis, а также за игры Devil May Cry (2001), Resident Evil 3: Nemesis, Resident Evil Code: Veronica и Resident Evil 4. Закрыта в 2005 году.\n",
       "<span style=\"padding: 2px; border-radius: 4px; border: 1px solid #ffe0b2; background: #fff3e0\"> Clover Studio<span style=\"vertical-align: middle; margin-left: 2px; font-size: 0.7em; color: #ffb74d;\">ORGANIZATION</span></span> —<span style=\"padding: 2px; border-radius: 4px; border: 1px solid #ffe0b2; background: #fff3e0\"> <span style=\"vertical-align: middle; margin-left: 2px; font-size: 0.7em; color: #ffb74d;\">ORGANIZATION</span></span><span style=\"padding: 2px; border-radius: 4px; border: 1px solid #ffe0b2; background: #fff3e0\">студия,<span style=\"vertical-align: middle; margin-left: 2px; font-size: 0.7em; color: #ffb74d;\">ORGANIZATION</span></span> ранее ответственная за игры God Hand, Okami и за серию игр Viewtiful Joe. Закрыта в 2007 году.\n",
       "<span style=\"padding: 2px; border-radius: 4px; border: 1px solid #ffe0b2; background: #fff3e0\"> Capcom Vancouver<span style=\"vertical-align: middle; margin-left: 2px; font-size: 0.7em; color: #ffb74d;\">ORGANIZATION</span></span> —<span style=\"padding: 2px; border-radius: 4px; border: 1px solid #ffe0b2; background: #fff3e0\"> студия,<span style=\"vertical-align: middle; margin-left: 2px; font-size: 0.7em; color: #ffb74d;\">ORGANIZATION</span></span> ранее ответственная за серию игр Dead Rising (2010—2016). Закрыта в 2018 году.\n",
       "\n",
       "\n",
       "== Филиалы и связанные корпорации ==\n",
       "<span style=\"padding: 2px; border-radius: 4px; border: 1px solid #ffe0b2; background: #fff3e0\">Capcom Entertainment, Inc.\n",
       "Capcom U.S.A., Inc.<span style=\"vertical-align: middle; margin-left: 2px; font-size: 0.7em; color: #ffb74d;\">ORGANIZATION</span></span> основана в<span style=\"padding: 2px; border-radius: 4px; border: 1px solid #ffcdd2; background: #ffebee\"> Калифорнии<span style=\"vertical-align: middle; margin-left: 2px; font-size: 0.7em; color: #e57373;\">REGION</span></span> как официальный<span style=\"padding: 2px; border-radius: 4px; border: 1px solid #ffe0b2; background: #fff3e0\"> филиал<span style=\"vertical-align: middle; margin-left: 2px; font-size: 0.7em; color: #ffb74d;\">ORGANIZATION</span></span><span style=\"padding: 2px; border-radius: 4px; border: 1px solid #ffe0b2; background: #fff3e0\"> Capcom<span style=\"vertical-align: middle; margin-left: 2px; font-size: 0.7em; color: #ffb74d;\">ORGANIZATION</span></span> в<span style=\"padding: 2px; border-radius: 4px; border: 1px solid #d1c4e9; background: #ede7f6\"> Северной Америке<span style=\"vertical-align: middle; margin-left: 2px; font-size: 0.7em; color: #9575cd;\">COUNTRY</span></span> в августе 1985 года.\n",
       "Capcom<span style=\"padding: 2px; border-radius: 4px; border: 1px solid #ffe0b2; background: #fff3e0\"> Studio 8, Inc.<span style=\"vertical-align: middle; margin-left: 2px; font-size: 0.7em; color: #ffb74d;\">ORGANIZATION</span></span> основана как<span style=\"padding: 2px; border-radius: 4px; border: 1px solid #ffe0b2; background: #fff3e0\"> R&amp;D отдел<span style=\"vertical-align: middle; margin-left: 2px; font-size: 0.7em; color: #ffb74d;\">ORGANIZATION</span></span><span style=\"padding: 2px; border-radius: 4px; border: 1px solid #ffe0b2; background: #fff3e0\"> Capcom USA, Inc.<span style=\"vertical-align: middle; margin-left: 2px; font-size: 0.7em; color: #ffb74d;\">ORGANIZATION</span></span> в июне 1995.<span style=\"padding: 2px; border-radius: 4px; border: 1px solid #ffe0b2; background: #fff3e0\"> Студия<span style=\"vertical-align: middle; margin-left: 2px; font-size: 0.7em; color: #ffb74d;\">ORGANIZATION</span></span> была закрыта в 2006 году.\n",
       "Capcom<span style=\"padding: 2px; border-radius: 4px; border: 1px solid #ffe0b2; background: #fff3e0\"> Asia Co., Ltd.<span style=\"vertical-align: middle; margin-left: 2px; font-size: 0.7em; color: #ffb74d;\">ORGANIZATION</span></span> основана в<span style=\"padding: 2px; border-radius: 4px; border: 1px solid #d1c4e9; background: #ede7f6\"> Гонконге<span style=\"vertical-align: middle; margin-left: 2px; font-size: 0.7em; color: #9575cd;\">COUNTRY</span></span> как официальный<span style=\"padding: 2px; border-radius: 4px; border: 1px solid #c8e6c9; background: #e8f5e9\"> <span style=\"vertical-align: middle; margin-left: 2px; font-size: 0.7em; color: #66bb6a;\">GPE</span></span><span style=\"padding: 2px; border-radius: 4px; border: 1px solid #c8e6c9; background: #e8f5e9\">азиатский<span style=\"vertical-align: middle; margin-left: 2px; font-size: 0.7em; color: #66bb6a;\">GPE</span></span><span style=\"padding: 2px; border-radius: 4px; border: 1px solid #ffe0b2; background: #fff3e0\"> филиал<span style=\"vertical-align: middle; margin-left: 2px; font-size: 0.7em; color: #ffb74d;\">ORGANIZATION</span></span><span style=\"padding: 2px; border-radius: 4px; border: 1px solid #ffe0b2; background: #fff3e0\"> Capcom<span style=\"vertical-align: middle; margin-left: 2px; font-size: 0.7em; color: #ffb74d;\">ORGANIZATION</span></span> в 1993 году.\n",
       "Capcom<span style=\"padding: 2px; border-radius: 4px; border: 1px solid #ffe0b2; background: #fff3e0\"> Eurosoft Ltd.<span style=\"vertical-align: middle; margin-left: 2px; font-size: 0.7em; color: #ffb74d;\">ORGANIZATION</span></span> основана в<span style=\"padding: 2px; border-radius: 4px; border: 1px solid #ffe0b2; background: #fff3e0\"> Объединённом Королевстве<span style=\"vertical-align: middle; margin-left: 2px; font-size: 0.7em; color: #ffb74d;\">ORGANIZATION</span></span> как официальный<span style=\"padding: 2px; border-radius: 4px; border: 1px solid #c8e6c9; background: #e8f5e9\"> <span style=\"vertical-align: middle; margin-left: 2px; font-size: 0.7em; color: #66bb6a;\">GPE</span></span><span style=\"padding: 2px; border-radius: 4px; border: 1px solid #c8e6c9; background: #e8f5e9\">европейский<span style=\"vertical-align: middle; margin-left: 2px; font-size: 0.7em; color: #66bb6a;\">GPE</span></span><span style=\"padding: 2px; border-radius: 4px; border: 1px solid #ffe0b2; background: #fff3e0\"> филиал<span style=\"vertical-align: middle; margin-left: 2px; font-size: 0.7em; color: #ffb74d;\">ORGANIZATION</span></span><span style=\"padding: 2px; border-radius: 4px; border: 1px solid #ffe0b2; background: #fff3e0\"> Capcom<span style=\"vertical-align: middle; margin-left: 2px; font-size: 0.7em; color: #ffb74d;\">ORGANIZATION</span></span> в июле 1998 года.\n",
       "KOKO<span style=\"padding: 2px; border-radius: 4px; border: 1px solid #ffe0b2; background: #fff3e0\"> Capcom Asia Co., Ltd.<span style=\"vertical-align: middle; margin-left: 2px; font-size: 0.7em; color: #ffb74d;\">ORGANIZATION</span></span> — официальный<span style=\"padding: 2px; border-radius: 4px; border: 1px solid #d1c4e9; background: #ede7f6\"> <span style=\"vertical-align: middle; margin-left: 2px; font-size: 0.7em; color: #9575cd;\">COUNTRY</span></span><span style=\"padding: 2px; border-radius: 4px; border: 1px solid #d1c4e9; background: #ede7f6\">южнокорейский<span style=\"vertical-align: middle; margin-left: 2px; font-size: 0.7em; color: #9575cd;\">COUNTRY</span></span><span style=\"padding: 2px; border-radius: 4px; border: 1px solid #ffe0b2; background: #fff3e0\"> филиал<span style=\"vertical-align: middle; margin-left: 2px; font-size: 0.7em; color: #ffb74d;\">ORGANIZATION</span></span><span style=\"padding: 2px; border-radius: 4px; border: 1px solid #ffe0b2; background: #fff3e0\"> Capcom,<span style=\"vertical-align: middle; margin-left: 2px; font-size: 0.7em; color: #ffb74d;\">ORGANIZATION</span></span> основанный в июле 2001 года.\n",
       "Suleputer была основана для торговли и дистрибуции игр и сопутствующих товаров (книг, музыки, аниме и т. д.) в<span style=\"padding: 2px; border-radius: 4px; border: 1px solid #c8e6c9; background: #e8f5e9\"> Азии.<span style=\"vertical-align: middle; margin-left: 2px; font-size: 0.7em; color: #66bb6a;\">GPE</span></span> Название происходит от<span style=\"padding: 2px; border-radius: 4px; border: 1px solid #ffe0b2; background: #fff3e0\"> Capsule Computer.\n",
       "Captron Co., Ltd.<span style=\"vertical-align: middle; margin-left: 2px; font-size: 0.7em; color: #ffb74d;\">ORGANIZATION</span></span> основана для управлением делами недвижимости.\n",
       "Flagship<span style=\"padding: 2px; border-radius: 4px; border: 1px solid #ffe0b2; background: #fff3e0\"> Co., Ltd.<span style=\"vertical-align: middle; margin-left: 2px; font-size: 0.7em; color: #ffb74d;\">ORGANIZATION</span></span> —<span style=\"padding: 2px; border-radius: 4px; border: 1px solid #ffe0b2; background: #fff3e0\"> студия,<span style=\"vertical-align: middle; margin-left: 2px; font-size: 0.7em; color: #ffb74d;\">ORGANIZATION</span></span> создавшая «Onimusha» и «Zelda» на Game Boy Color и Game Boy Advance, выпустившая «The Legend of Zelda: The Minish Cap».\n",
       "Capcom<span style=\"padding: 2px; border-radius: 4px; border: 1px solid #ffe0b2; background: #fff3e0\"> Charbo Co., Ltd.<span style=\"vertical-align: middle; margin-left: 2px; font-size: 0.7em; color: #ffb74d;\">ORGANIZATION</span></span> основана для управления арендой и эксплуатацией электронных игровых машин.\n",
       "CE<span style=\"padding: 2px; border-radius: 4px; border: 1px solid #ffe0b2; background: #fff3e0\"> Europe Ltd.<span style=\"vertical-align: middle; margin-left: 2px; font-size: 0.7em; color: #ffb74d;\">ORGANIZATION</span></span> была основана в<span style=\"padding: 2px; border-radius: 4px; border: 1px solid #d7ccc8; background: #efebe9\"> <span style=\"vertical-align: middle; margin-left: 2px; font-size: 0.7em; color: #a1887f;\">CITY</span></span><span style=\"padding: 2px; border-radius: 4px; border: 1px solid #d7ccc8; background: #efebe9\">Лондоне<span style=\"vertical-align: middle; margin-left: 2px; font-size: 0.7em; color: #a1887f;\">CITY</span></span> в ноябре 2002.\n",
       "CEG<span style=\"padding: 2px; border-radius: 4px; border: 1px solid #ffe0b2; background: #fff3e0\"> Interactive Entertainment GmbH<span style=\"vertical-align: middle; margin-left: 2px; font-size: 0.7em; color: #ffb74d;\">ORGANIZATION</span></span> была основана в<span style=\"padding: 2px; border-radius: 4px; border: 1px solid #d1c4e9; background: #ede7f6\"> Германии<span style=\"vertical-align: middle; margin-left: 2px; font-size: 0.7em; color: #9575cd;\">COUNTRY</span></span> в феврале 2003.\n",
       "Nude<span style=\"padding: 2px; border-radius: 4px; border: 1px solid #ffe0b2; background: #fff3e0\"> Maker Co., Ltd.<span style=\"vertical-align: middle; margin-left: 2px; font-size: 0.7em; color: #ffb74d;\">ORGANIZATION</span></span> —<span style=\"padding: 2px; border-radius: 4px; border: 1px solid #ffe0b2; background: #fff3e0\"> студия,<span style=\"vertical-align: middle; margin-left: 2px; font-size: 0.7em; color: #ffb74d;\">ORGANIZATION</span></span> создавшая «Clock Tower» 1, 2 и «Steel Battalion» для PlayStation и Xbox.\n",
       "Clover<span style=\"padding: 2px; border-radius: 4px; border: 1px solid #ffe0b2; background: #fff3e0\"> Studio Co., Ltd.<span style=\"vertical-align: middle; margin-left: 2px; font-size: 0.7em; color: #ffb74d;\">ORGANIZATION</span></span> —<span style=\"padding: 2px; border-radius: 4px; border: 1px solid #ffe0b2; background: #fff3e0\"> <span style=\"vertical-align: middle; margin-left: 2px; font-size: 0.7em; color: #ffb74d;\">ORGANIZATION</span></span><span style=\"padding: 2px; border-radius: 4px; border: 1px solid #ffe0b2; background: #fff3e0\">студия,<span style=\"vertical-align: middle; margin-left: 2px; font-size: 0.7em; color: #ffb74d;\">ORGANIZATION</span></span> основанная в<span style=\"padding: 2px; border-radius: 4px; border: 1px solid #d7ccc8; background: #efebe9\"> Осаке<span style=\"vertical-align: middle; margin-left: 2px; font-size: 0.7em; color: #a1887f;\">CITY</span></span> в июле 2004 года и распущенная в марте 2007 года. Она разработала серии «Viewtiful Joe», «Okami» и «God Hand».\n",
       "SEEDS<span style=\"padding: 2px; border-radius: 4px; border: 1px solid #ffe0b2; background: #fff3e0\"> Inc.<span style=\"vertical-align: middle; margin-left: 2px; font-size: 0.7em; color: #ffb74d;\">ORGANIZATION</span></span> создана из бывших сотрудников<span style=\"padding: 2px; border-radius: 4px; border: 1px solid #ffe0b2; background: #fff3e0\"> Clover Studio.\n",
       "Nickel<span style=\"vertical-align: middle; margin-left: 2px; font-size: 0.7em; color: #ffb74d;\">ORGANIZATION</span></span> City — цепь видеоаркад, однажды купленная<span style=\"padding: 2px; border-radius: 4px; border: 1px solid #ffe0b2; background: #fff3e0\"> Capcom<span style=\"vertical-align: middle; margin-left: 2px; font-size: 0.7em; color: #ffb74d;\">ORGANIZATION</span></span> и позже проданная в 2004 году.\n",
       "Capcom<span style=\"padding: 2px; border-radius: 4px; border: 1px solid #ffe0b2; background: #fff3e0\"> Interactive Canada<span style=\"vertical-align: middle; margin-left: 2px; font-size: 0.7em; color: #ffb74d;\">ORGANIZATION</span></span> —<span style=\"padding: 2px; border-radius: 4px; border: 1px solid #ffe0b2; background: #fff3e0\"> отдел<span style=\"vertical-align: middle; margin-left: 2px; font-size: 0.7em; color: #ffb74d;\">ORGANIZATION</span></span><span style=\"padding: 2px; border-radius: 4px; border: 1px solid #ffe0b2; background: #fff3e0\"> Capcom,<span style=\"vertical-align: middle; margin-left: 2px; font-size: 0.7em; color: #ffb74d;\">ORGANIZATION</span></span> ориентированный на разработку игр под мобильные платформы.\n",
       "\n",
       "\n",
       "== Фильмы и телевидение ==\n",
       "Герои и игры Capcom породили множество фильмов и мультфильмов. Некоторые из них:\n",
       "\n",
       "Символ<span style=\"padding: 2px; border-radius: 4px; border: 1px solid #ffe0b2; background: #fff3e0\"> компании,<span style=\"vertical-align: middle; margin-left: 2px; font-size: 0.7em; color: #ffb74d;\">ORGANIZATION</span></span> Mega Man, сыграл второстепенную роль в ТВ-шоу Nintendo «Captain N: The Game Master» и также потом появился в трёх сериалах: «Mega Man» и двух аниме «MegaMan NT Warrior» и «Ryusei no Rockman». Он также был главным героем «Mega Man: Upon a Star|three OVAs», выпущенном в 1993 в<span style=\"padding: 2px; border-radius: 4px; border: 1px solid #d1c4e9; background: #ede7f6\"> <span style=\"vertical-align: middle; margin-left: 2px; font-size: 0.7em; color: #9575cd;\">COUNTRY</span></span><span style=\"padding: 2px; border-radius: 4px; border: 1px solid #d1c4e9; background: #ede7f6\">Японии<span style=\"vertical-align: middle; margin-left: 2px; font-size: 0.7em; color: #9575cd;\">COUNTRY</span></span> и «NT Warrior» — аниме-сериале, породившем 48-минутный фильм «Rockman EXE: The Program of Light and Dark», и героем сериала «Mega Man X», снятого в<span style=\"padding: 2px; border-radius: 4px; border: 1px solid #d1c4e9; background: #ede7f6\"> Америке<span style=\"vertical-align: middle; margin-left: 2px; font-size: 0.7em; color: #9575cd;\">COUNTRY</span></span> в начале 90-х.\n",
       "В 1994 был создан полнометражный мультфильм «Street Fighter II: The Animated Movie», последовавший за фильмом «Уличный боец». Вскоре после этого появилось два мультсериала «Street Fighter II V» и «Street Fighter: The Animated Series» в 1995.\n",
       "Битвы между героями Street Fighter II можно увидеть в фильме «Городской охотник» с<span style=\"padding: 2px; border-radius: 4px; border: 1px solid #bbdefb; background: #e3f2fd\"> Джеки Чаном.\n",
       "Файтинг<span style=\"vertical-align: middle; margin-left: 2px; font-size: 0.7em; color: #64b5f6;\">PERSON</span></span> «Darkstalkers» вдохновил на создание двух мультсериалов — «Vampire Hunter: The Animated Series» в<span style=\"padding: 2px; border-radius: 4px; border: 1px solid #d1c4e9; background: #ede7f6\"> <span style=\"vertical-align: middle; margin-left: 2px; font-size: 0.7em; color: #9575cd;\">COUNTRY</span></span><span style=\"padding: 2px; border-radius: 4px; border: 1px solid #d1c4e9; background: #ede7f6\">Японии<span style=\"vertical-align: middle; margin-left: 2px; font-size: 0.7em; color: #9575cd;\">COUNTRY</span></span> (выходил под названием «Night Warriors: Darkstalkers&#x27; Revenge» в других странах) и «Darkstalkers» в<span style=\"padding: 2px; border-radius: 4px; border: 1px solid #d1c4e9; background: #ede7f6\"> <span style=\"vertical-align: middle; margin-left: 2px; font-size: 0.7em; color: #9575cd;\">COUNTRY</span></span><span style=\"padding: 2px; border-radius: 4px; border: 1px solid #d1c4e9; background: #ede7f6\">США.\n",
       "Аниме-сериал<span style=\"vertical-align: middle; margin-left: 2px; font-size: 0.7em; color: #9575cd;\">COUNTRY</span></span> по мотивам «Viewtiful Joe» был создан в 2004. Он содержал 52 эпизода и был вдохновлён первой и второй играми серии.\n",
       "Объявлено о съёмках фильмов по мотивам Devil May Cry и Clock Tower.\n",
       "Более того в 2007 вышло аниме по мотивам Devil May Cry.\n",
       "Серия фильмов «Обитель зла» от режиссёра<span style=\"padding: 2px; border-radius: 4px; border: 1px solid #bbdefb; background: #e3f2fd\"> Пола Андерсона.\n",
       "В<span style=\"vertical-align: middle; margin-left: 2px; font-size: 0.7em; color: #64b5f6;\">PERSON</span></span> 2012 году вышел фильм по мотивам первой игры серии Ace Attorney (Gyakuten Saiban).\n",
       "Также в 2016 году был создан аниме-сериал по мотивам первых двух игр серии Ace Attorney (Gyakuten Saiban) и содержит в себе 24 эпизода в качестве первого сезона. В 2018 году вышло продолжение, сделанное по мотивам третьей части игры.\n",
       "\n",
       "\n",
       "== Игры Capcom ==\n",
       "\n",
       "\n",
       "=== Платиновые тайтлы Capcom ===\n",
       "<span style=\"padding: 2px; border-radius: 4px; border: 1px solid #ffe0b2; background: #fff3e0\">Capcom<span style=\"vertical-align: middle; margin-left: 2px; font-size: 0.7em; color: #ffb74d;\">ORGANIZATION</span></span> составляет обновляющийся ежеквартально список из своих игр, тираж которых превысил миллион экземпляров, и называется «Платиновыми тайтлами». Список состоит из более чем 90 видеоигр, а вот десять самых продаваемых изданий по состоянию на 30 сентября 2023 года.\n",
       "\n",
       "* - с учетом продаж издания &quot;Monster Hunter World: Iceborne Master Edition&quot;: 23.10 млн. копий\n",
       "\n",
       "\n",
       "== Примечания ==\n",
       "\n",
       "\n",
       "== Источники ==\n",
       "«CAPCOM: Corporate Profile:<span style=\"padding: 2px; border-radius: 4px; border: 1px solid #ffe0b2; background: #fff3e0\"> Capcom Group<span style=\"vertical-align: middle; margin-left: 2px; font-size: 0.7em; color: #ffb74d;\">ORGANIZATION</span></span> Архивная копия от 12 октября 2007 на Wayback Machine.» Декабрь 27, 2004. Accessed on March 6, 2006.\n",
       "«CAPCOM: Corporate Profile: Corporate History Архивная копия от 15 апреля 2010 на Wayback Machine.» 20 июня, 2005.\n",
       "«CAPCOM: Financial Information Архивная копия от 14 мая 2005 на Wayback Machine.» 20 июня 2005.\n",
       "\n",
       "\n",
       "== Ссылки ==\n",
       "<span style=\"padding: 2px; border-radius: 4px; border: 1px solid #ffe0b2; background: #fff3e0\">Capcom Co. Ltd.<span style=\"vertical-align: middle; margin-left: 2px; font-size: 0.7em; color: #ffb74d;\">ORGANIZATION</span></span> Архивная копия от 2 августа 2011 на Wayback Machine (яп.)\n",
       "Capcom<span style=\"padding: 2px; border-radius: 4px; border: 1px solid #ffe0b2; background: #fff3e0\"> U.S.A., Inc.<span style=\"vertical-align: middle; margin-left: 2px; font-size: 0.7em; color: #ffb74d;\">ORGANIZATION</span></span> Архивная копия от 24 августа 2013 на Wayback Machine\n",
       "Capcom<span style=\"padding: 2px; border-radius: 4px; border: 1px solid #ffe0b2; background: #fff3e0\"> Europe Ltd.<span style=\"vertical-align: middle; margin-left: 2px; font-size: 0.7em; color: #ffb74d;\">ORGANIZATION</span></span> Архивная копия от 12 мая 2008 на Wayback Machine\n",
       "Capcom Архивная копия от 8 марта 2005 на Wayback Machine //<span style=\"padding: 2px; border-radius: 4px; border: 1px solid #ffe0b2; background: #fff3e0\"> MobyGames\n",
       "Capcom-Central.com<span style=\"vertical-align: middle; margin-left: 2px; font-size: 0.7em; color: #ffb74d;\">ORGANIZATION</span></span> — игры Capcom</div>"
      ],
      "text/plain": [
       "<IPython.core.display.HTML object>"
      ]
     },
     "metadata": {},
     "output_type": "display_data"
    }
   ],
   "source": [
    "spans = [(x['start'], x['end'], x['entity_group']) for x in outputs[2]]\n",
    "\n",
    "show_span_box_markup(article, spans)"
   ]
  },
  {
   "cell_type": "markdown",
   "id": "567a319f-b9f5-4cfb-bb6a-52dfdc1b23fb",
   "metadata": {},
   "source": [
    "### Saving Best Model's Statistics"
   ]
  },
  {
   "cell_type": "markdown",
   "id": "097027ea-c711-46ba-85a2-93777975111f",
   "metadata": {},
   "source": [
    "Можно заметить, что модель на основе mBERT немного лучше своих конкурентов (хоть и является самой маленькой по размеру):\n",
    "1. меньше выделенных обрывков (пример: \"Capcom U.S.A., Inc\" - это 1 организация, но roberta и mdeberta выделяет только вторую половину \"U.S.A., Inc\");\n",
    "2. roberta и mdeberta выделяют больше сущностей (например, \"Капитан Коммандо\" как персонажа), но границы сущностей порой определяются некорректно (\"Пола Андерсона.\\nВ\" помечен как персонаж), mbert более консервативный в этом плане - вымышленных персонажей он так себе отлавливает, но границы сущностей определяет четко;\n",
    "3. mdeberta, в частности, грешит выделением в сущность связанных слов (\"филиал Capcom\" - филиал считается ей как отдельная организация).\n",
    "\n",
    "Общий итог:\n",
    "- mbert имеет лучший precision;\n",
    "- roberta и mdeberta лучше по recall, но precision заметно страдает.\n",
    "\n",
    "В идеале, нужен баланс между precision/recall. Наилучший баланс наблюдается в 1ой модели. \n",
    "\n",
    "Исходя из этих соображений, будем сохранять статистику для модели на основе mBERT."
   ]
  },
  {
   "cell_type": "code",
   "execution_count": 16,
   "id": "188c51be-cb1a-413b-a9c2-b2c3971c0424",
   "metadata": {},
   "outputs": [],
   "source": [
    "best_output = outputs[0]\n",
    "\n",
    "for entity in best_output:\n",
    "    entity['word'] = lemmatize(entity['word'])"
   ]
  },
  {
   "cell_type": "markdown",
   "id": "aa720e57-c8ba-4b55-b0be-4a05638c3b14",
   "metadata": {},
   "source": [
    "Сохраним статистику:"
   ]
  },
  {
   "cell_type": "code",
   "execution_count": 17,
   "id": "73203eb4-733f-42ea-86ea-c3ac63f42316",
   "metadata": {},
   "outputs": [
    {
     "data": {
      "text/html": [
       "<div>\n",
       "<style scoped>\n",
       "    .dataframe tbody tr th:only-of-type {\n",
       "        vertical-align: middle;\n",
       "    }\n",
       "\n",
       "    .dataframe tbody tr th {\n",
       "        vertical-align: top;\n",
       "    }\n",
       "\n",
       "    .dataframe thead th {\n",
       "        text-align: right;\n",
       "    }\n",
       "</style>\n",
       "<table border=\"1\" class=\"dataframe\">\n",
       "  <thead>\n",
       "    <tr style=\"text-align: right;\">\n",
       "      <th></th>\n",
       "      <th>word</th>\n",
       "      <th>entity_group</th>\n",
       "      <th>score</th>\n",
       "      <th>start</th>\n",
       "      <th>end</th>\n",
       "    </tr>\n",
       "  </thead>\n",
       "  <tbody>\n",
       "    <tr>\n",
       "      <th>0</th>\n",
       "      <td>Capcom Co., Ltd.</td>\n",
       "      <td>ORG</td>\n",
       "      <td>0.895079</td>\n",
       "      <td>0</td>\n",
       "      <td>16</td>\n",
       "    </tr>\n",
       "    <tr>\n",
       "      <th>1</th>\n",
       "      <td>Осака</td>\n",
       "      <td>LOC</td>\n",
       "      <td>0.999390</td>\n",
       "      <td>180</td>\n",
       "      <td>185</td>\n",
       "    </tr>\n",
       "    <tr>\n",
       "      <th>2</th>\n",
       "      <td>Japan Capsule Computers</td>\n",
       "      <td>ORG</td>\n",
       "      <td>0.957055</td>\n",
       "      <td>238</td>\n",
       "      <td>261</td>\n",
       "    </tr>\n",
       "    <tr>\n",
       "      <th>3</th>\n",
       "      <td>Capsule</td>\n",
       "      <td>ORG</td>\n",
       "      <td>0.524911</td>\n",
       "      <td>372</td>\n",
       "      <td>379</td>\n",
       "    </tr>\n",
       "    <tr>\n",
       "      <th>4</th>\n",
       "      <td>Computers</td>\n",
       "      <td>ORG</td>\n",
       "      <td>0.560299</td>\n",
       "      <td>382</td>\n",
       "      <td>391</td>\n",
       "    </tr>\n",
       "    <tr>\n",
       "      <th>...</th>\n",
       "      <td>...</td>\n",
       "      <td>...</td>\n",
       "      <td>...</td>\n",
       "      <td>...</td>\n",
       "      <td>...</td>\n",
       "    </tr>\n",
       "    <tr>\n",
       "      <th>79</th>\n",
       "      <td>Capcom Co. Ltd.</td>\n",
       "      <td>ORG</td>\n",
       "      <td>0.931040</td>\n",
       "      <td>7630</td>\n",
       "      <td>7645</td>\n",
       "    </tr>\n",
       "    <tr>\n",
       "      <th>80</th>\n",
       "      <td>Capcom U. S. A., Inc.</td>\n",
       "      <td>ORG</td>\n",
       "      <td>0.978601</td>\n",
       "      <td>7704</td>\n",
       "      <td>7723</td>\n",
       "    </tr>\n",
       "    <tr>\n",
       "      <th>81</th>\n",
       "      <td>Capcom Europe Ltd.</td>\n",
       "      <td>ORG</td>\n",
       "      <td>0.945999</td>\n",
       "      <td>7777</td>\n",
       "      <td>7795</td>\n",
       "    </tr>\n",
       "    <tr>\n",
       "      <th>82</th>\n",
       "      <td>Capcom</td>\n",
       "      <td>ORG</td>\n",
       "      <td>0.933932</td>\n",
       "      <td>7845</td>\n",
       "      <td>7851</td>\n",
       "    </tr>\n",
       "    <tr>\n",
       "      <th>83</th>\n",
       "      <td>Capcom</td>\n",
       "      <td>ORG</td>\n",
       "      <td>0.920255</td>\n",
       "      <td>7941</td>\n",
       "      <td>7947</td>\n",
       "    </tr>\n",
       "  </tbody>\n",
       "</table>\n",
       "<p>84 rows × 5 columns</p>\n",
       "</div>"
      ],
      "text/plain": [
       "                       word entity_group     score  start   end\n",
       "0          Capcom Co., Ltd.          ORG  0.895079      0    16\n",
       "1                     Осака          LOC  0.999390    180   185\n",
       "2   Japan Capsule Computers          ORG  0.957055    238   261\n",
       "3                   Capsule          ORG  0.524911    372   379\n",
       "4                 Computers          ORG  0.560299    382   391\n",
       "..                      ...          ...       ...    ...   ...\n",
       "79          Capcom Co. Ltd.          ORG  0.931040   7630  7645\n",
       "80    Capcom U. S. A., Inc.          ORG  0.978601   7704  7723\n",
       "81       Capcom Europe Ltd.          ORG  0.945999   7777  7795\n",
       "82                   Capcom          ORG  0.933932   7845  7851\n",
       "83                   Capcom          ORG  0.920255   7941  7947\n",
       "\n",
       "[84 rows x 5 columns]"
      ]
     },
     "execution_count": 17,
     "metadata": {},
     "output_type": "execute_result"
    }
   ],
   "source": [
    "entity_pos = pd.DataFrame(best_output)\n",
    "\n",
    "columns = entity_pos.columns.to_list()\n",
    "columns = [columns[2]] + columns[:2] + columns[3:]\n",
    "entity_pos = entity_pos[columns]\n",
    "\n",
    "entity_pos"
   ]
  },
  {
   "cell_type": "code",
   "execution_count": 18,
   "id": "92fbd4fd-4419-418e-8616-d50d787391be",
   "metadata": {},
   "outputs": [],
   "source": [
    "entity_pos.to_csv('task_1/entity_positions.csv')"
   ]
  },
  {
   "cell_type": "markdown",
   "id": "7b495263-7a7b-4ab8-9cf0-5266ef0bbeb0",
   "metadata": {},
   "source": [
    "Посчитаем частоты сущностей:"
   ]
  },
  {
   "cell_type": "code",
   "execution_count": 19,
   "id": "f62251e2-a3d0-4a1f-8651-eb1fa884798a",
   "metadata": {},
   "outputs": [
    {
     "data": {
      "text/html": [
       "<div>\n",
       "<style scoped>\n",
       "    .dataframe tbody tr th:only-of-type {\n",
       "        vertical-align: middle;\n",
       "    }\n",
       "\n",
       "    .dataframe tbody tr th {\n",
       "        vertical-align: top;\n",
       "    }\n",
       "\n",
       "    .dataframe thead th {\n",
       "        text-align: right;\n",
       "    }\n",
       "</style>\n",
       "<table border=\"1\" class=\"dataframe\">\n",
       "  <thead>\n",
       "    <tr style=\"text-align: right;\">\n",
       "      <th></th>\n",
       "      <th>word</th>\n",
       "      <th>entity_group</th>\n",
       "      <th>frequency</th>\n",
       "    </tr>\n",
       "  </thead>\n",
       "  <tbody>\n",
       "    <tr>\n",
       "      <th>0</th>\n",
       "      <td>Capcom</td>\n",
       "      <td>ORG</td>\n",
       "      <td>22</td>\n",
       "    </tr>\n",
       "    <tr>\n",
       "      <th>1</th>\n",
       "      <td>Япония</td>\n",
       "      <td>LOC</td>\n",
       "      <td>3</td>\n",
       "    </tr>\n",
       "    <tr>\n",
       "      <th>2</th>\n",
       "      <td>Clover Studio</td>\n",
       "      <td>ORG</td>\n",
       "      <td>3</td>\n",
       "    </tr>\n",
       "    <tr>\n",
       "      <th>3</th>\n",
       "      <td>Capcom U. S. A., Inc.</td>\n",
       "      <td>ORG</td>\n",
       "      <td>2</td>\n",
       "    </tr>\n",
       "    <tr>\n",
       "      <th>4</th>\n",
       "      <td>Осака</td>\n",
       "      <td>LOC</td>\n",
       "      <td>2</td>\n",
       "    </tr>\n",
       "    <tr>\n",
       "      <th>5</th>\n",
       "      <td>Flagship Co., Ltd</td>\n",
       "      <td>ORG</td>\n",
       "      <td>1</td>\n",
       "    </tr>\n",
       "    <tr>\n",
       "      <th>6</th>\n",
       "      <td>Лондон</td>\n",
       "      <td>LOC</td>\n",
       "      <td>1</td>\n",
       "    </tr>\n",
       "    <tr>\n",
       "      <th>7</th>\n",
       "      <td>CE Europe Ltd.</td>\n",
       "      <td>ORG</td>\n",
       "      <td>1</td>\n",
       "    </tr>\n",
       "    <tr>\n",
       "      <th>8</th>\n",
       "      <td>Capcom Charbo Co., Ltd.</td>\n",
       "      <td>ORG</td>\n",
       "      <td>1</td>\n",
       "    </tr>\n",
       "    <tr>\n",
       "      <th>9</th>\n",
       "      <td>Capcom Co., Ltd.</td>\n",
       "      <td>ORG</td>\n",
       "      <td>1</td>\n",
       "    </tr>\n",
       "  </tbody>\n",
       "</table>\n",
       "</div>"
      ],
      "text/plain": [
       "                      word entity_group  frequency\n",
       "0                   Capcom          ORG         22\n",
       "1                   Япония          LOC          3\n",
       "2            Clover Studio          ORG          3\n",
       "3    Capcom U. S. A., Inc.          ORG          2\n",
       "4                    Осака          LOC          2\n",
       "5        Flagship Co., Ltd          ORG          1\n",
       "6                   Лондон          LOC          1\n",
       "7           CE Europe Ltd.          ORG          1\n",
       "8  Capcom Charbo Co., Ltd.          ORG          1\n",
       "9         Capcom Co., Ltd.          ORG          1"
      ]
     },
     "execution_count": 19,
     "metadata": {},
     "output_type": "execute_result"
    }
   ],
   "source": [
    "frequencies = entity_pos['word'].value_counts()\n",
    "\n",
    "entity_freq = entity_pos.copy()\n",
    "entity_freq['frequency'] = entity_freq['word'].map(frequencies)\n",
    "\n",
    "entity_freq.drop_duplicates(subset='word', keep='first', inplace=True)\n",
    "entity_freq.drop(['score', 'start', 'end'], axis=1, inplace=True)\n",
    "entity_freq.sort_values('frequency', ascending=False, inplace=True, ignore_index=True)\n",
    "\n",
    "entity_freq.head(10)"
   ]
  },
  {
   "cell_type": "code",
   "execution_count": 20,
   "id": "0b442c95-1ac2-4d29-8292-74e0a1d07696",
   "metadata": {},
   "outputs": [],
   "source": [
    "entity_freq.to_csv('task_1/entity_frequencies.csv')"
   ]
  },
  {
   "cell_type": "markdown",
   "id": "3f2fcdae-7bde-4f56-b928-7ab5952a1209",
   "metadata": {},
   "source": [
    "### Conclusion"
   ]
  },
  {
   "cell_type": "markdown",
   "id": "fb95d6ed-b9f1-4cf2-b1a5-03ebfae3801e",
   "metadata": {},
   "source": [
    "В целом, качество извлечения именованных сущностей у mbert лучшее среди 3 моделей. Однако не все так гладко:\n",
    "1. модель хорошо теггирует реальных людей (Джеки Чан), но с вымышленными персонажами может ошибаться (например, Капитан Коммандо, хотя Рю был выделен корректно - возможно, дело в популярности этих персонажей, про Рю из Street Fighter скорее всего что-то да было в их датасете);\n",
    "2. малоизвестные студии (M-Two, K2) плохо теггируются (либо обрывочно, либо совсем никак);\n",
    "3. неоднозначные кейсы (MegaMan, это и название игры, и персонаж) не ловятся.\n",
    "\n",
    "Возможно, разница между моделями лежит в датасетах, на которых они обучались. Крупные roberta и mdeberta ловят больше сущностей, но и ошибаются чаще, даже в якобы простых случаях."
   ]
  },
  {
   "cell_type": "code",
   "execution_count": null,
   "id": "ef7cd468-367d-450b-aae7-fa9087eec8de",
   "metadata": {},
   "outputs": [],
   "source": []
  }
 ],
 "metadata": {
  "kernelspec": {
   "display_name": "ml_models",
   "language": "python",
   "name": "ml_models"
  },
  "language_info": {
   "codemirror_mode": {
    "name": "ipython",
    "version": 3
   },
   "file_extension": ".py",
   "mimetype": "text/x-python",
   "name": "python",
   "nbconvert_exporter": "python",
   "pygments_lexer": "ipython3",
   "version": "3.11.4"
  }
 },
 "nbformat": 4,
 "nbformat_minor": 5
}
